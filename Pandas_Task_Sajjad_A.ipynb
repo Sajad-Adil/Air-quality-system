{
  "nbformat": 4,
  "nbformat_minor": 0,
  "metadata": {
    "colab": {
      "provenance": [],
      "authorship_tag": "ABX9TyOq10ZX+Ty+D5pNwi8487tx",
      "include_colab_link": true
    },
    "kernelspec": {
      "name": "python3",
      "display_name": "Python 3"
    },
    "language_info": {
      "name": "python"
    }
  },
  "cells": [
    {
      "cell_type": "markdown",
      "metadata": {
        "id": "view-in-github",
        "colab_type": "text"
      },
      "source": [
        "<a href=\"https://colab.research.google.com/github/Sajad-Adil/Air-quality-system/blob/main/Pandas_Task_Sajjad_A.ipynb\" target=\"_parent\"><img src=\"https://colab.research.google.com/assets/colab-badge.svg\" alt=\"Open In Colab\"/></a>"
      ]
    },
    {
      "cell_type": "markdown",
      "source": [
        "##Import Libraries"
      ],
      "metadata": {
        "id": "KnEp9ax7-Byw"
      }
    },
    {
      "cell_type": "code",
      "source": [
        "import os\n",
        "import pandas as pd\n",
        "import sys\n",
        "import seaborn as sns\n",
        "import matplotlib.pyplot as plt"
      ],
      "metadata": {
        "id": "fDO1S-KC-PCt"
      },
      "execution_count": 1,
      "outputs": []
    },
    {
      "cell_type": "markdown",
      "source": [
        "##Data Loading"
      ],
      "metadata": {
        "id": "Wqnc_1Qs9pKw"
      }
    },
    {
      "cell_type": "code",
      "execution_count": null,
      "metadata": {
        "id": "JcVuLC0r9kp4"
      },
      "outputs": [],
      "source": [
        "import kagglehub\n",
        "\n",
        "# Download latest version\n",
        "path = kagglehub.dataset_download(\"atillacolak/top-50-spotify-tracks-2020\")\n",
        "\n",
        "print(\"Path to dataset files:\", path)"
      ]
    },
    {
      "cell_type": "code",
      "source": [
        "df = pd.read_csv('/root/.cache/kagglehub/datasets/atillacolak/top-50-spotify-tracks-2020/versions/2/spotifytoptracks.csv' , sep=\",\", index_col=0)"
      ],
      "metadata": {
        "id": "51D-CFkP-qbc"
      },
      "execution_count": 3,
      "outputs": []
    },
    {
      "cell_type": "code",
      "source": [
        "df.head()"
      ],
      "metadata": {
        "colab": {
          "base_uri": "https://localhost:8080/",
          "height": 382
        },
        "id": "8kB9wzdo_B3F",
        "outputId": "f9937f26-4f66-4ff6-b478-c996a7a17167"
      },
      "execution_count": 4,
      "outputs": [
        {
          "output_type": "execute_result",
          "data": {
            "text/plain": [
              "        artist                                  album             track_name  \\\n",
              "0   The Weeknd                            After Hours        Blinding Lights   \n",
              "1  Tones And I                           Dance Monkey           Dance Monkey   \n",
              "2  Roddy Ricch  Please Excuse Me For Being Antisocial                The Box   \n",
              "3    SAINt JHN                  Roses (Imanbek Remix)  Roses - Imanbek Remix   \n",
              "4     Dua Lipa                       Future Nostalgia        Don't Start Now   \n",
              "\n",
              "                 track_id  energy  danceability  key  loudness  acousticness  \\\n",
              "0  0VjIjW4GlUZAMYd2vXMi3b   0.730         0.514    1    -5.934       0.00146   \n",
              "1  1rgnBhdG2JDFTbYkYRZAku   0.593         0.825    6    -6.401       0.68800   \n",
              "2  0nbXyq5TXYPCO7pr3N8S4I   0.586         0.896   10    -6.687       0.10400   \n",
              "3  2Wo6QQD1KMDWeFkkjLqwx5   0.721         0.785    8    -5.457       0.01490   \n",
              "4  3PfIrDoz19wz7qK7tYeu62   0.793         0.793   11    -4.521       0.01230   \n",
              "\n",
              "   speechiness  instrumentalness  liveness  valence    tempo  duration_ms  \\\n",
              "0       0.0598          0.000095    0.0897    0.334  171.005       200040   \n",
              "1       0.0988          0.000161    0.1700    0.540   98.078       209755   \n",
              "2       0.0559          0.000000    0.7900    0.642  116.971       196653   \n",
              "3       0.0506          0.004320    0.2850    0.894  121.962       176219   \n",
              "4       0.0830          0.000000    0.0951    0.679  123.950       183290   \n",
              "\n",
              "               genre  \n",
              "0           R&B/Soul  \n",
              "1  Alternative/Indie  \n",
              "2        Hip-Hop/Rap  \n",
              "3   Dance/Electronic  \n",
              "4           Nu-disco  "
            ],
            "text/html": [
              "\n",
              "  <div id=\"df-864fe7fc-4fa0-488a-8f63-385a14618e54\" class=\"colab-df-container\">\n",
              "    <div>\n",
              "<style scoped>\n",
              "    .dataframe tbody tr th:only-of-type {\n",
              "        vertical-align: middle;\n",
              "    }\n",
              "\n",
              "    .dataframe tbody tr th {\n",
              "        vertical-align: top;\n",
              "    }\n",
              "\n",
              "    .dataframe thead th {\n",
              "        text-align: right;\n",
              "    }\n",
              "</style>\n",
              "<table border=\"1\" class=\"dataframe\">\n",
              "  <thead>\n",
              "    <tr style=\"text-align: right;\">\n",
              "      <th></th>\n",
              "      <th>artist</th>\n",
              "      <th>album</th>\n",
              "      <th>track_name</th>\n",
              "      <th>track_id</th>\n",
              "      <th>energy</th>\n",
              "      <th>danceability</th>\n",
              "      <th>key</th>\n",
              "      <th>loudness</th>\n",
              "      <th>acousticness</th>\n",
              "      <th>speechiness</th>\n",
              "      <th>instrumentalness</th>\n",
              "      <th>liveness</th>\n",
              "      <th>valence</th>\n",
              "      <th>tempo</th>\n",
              "      <th>duration_ms</th>\n",
              "      <th>genre</th>\n",
              "    </tr>\n",
              "  </thead>\n",
              "  <tbody>\n",
              "    <tr>\n",
              "      <th>0</th>\n",
              "      <td>The Weeknd</td>\n",
              "      <td>After Hours</td>\n",
              "      <td>Blinding Lights</td>\n",
              "      <td>0VjIjW4GlUZAMYd2vXMi3b</td>\n",
              "      <td>0.730</td>\n",
              "      <td>0.514</td>\n",
              "      <td>1</td>\n",
              "      <td>-5.934</td>\n",
              "      <td>0.00146</td>\n",
              "      <td>0.0598</td>\n",
              "      <td>0.000095</td>\n",
              "      <td>0.0897</td>\n",
              "      <td>0.334</td>\n",
              "      <td>171.005</td>\n",
              "      <td>200040</td>\n",
              "      <td>R&amp;B/Soul</td>\n",
              "    </tr>\n",
              "    <tr>\n",
              "      <th>1</th>\n",
              "      <td>Tones And I</td>\n",
              "      <td>Dance Monkey</td>\n",
              "      <td>Dance Monkey</td>\n",
              "      <td>1rgnBhdG2JDFTbYkYRZAku</td>\n",
              "      <td>0.593</td>\n",
              "      <td>0.825</td>\n",
              "      <td>6</td>\n",
              "      <td>-6.401</td>\n",
              "      <td>0.68800</td>\n",
              "      <td>0.0988</td>\n",
              "      <td>0.000161</td>\n",
              "      <td>0.1700</td>\n",
              "      <td>0.540</td>\n",
              "      <td>98.078</td>\n",
              "      <td>209755</td>\n",
              "      <td>Alternative/Indie</td>\n",
              "    </tr>\n",
              "    <tr>\n",
              "      <th>2</th>\n",
              "      <td>Roddy Ricch</td>\n",
              "      <td>Please Excuse Me For Being Antisocial</td>\n",
              "      <td>The Box</td>\n",
              "      <td>0nbXyq5TXYPCO7pr3N8S4I</td>\n",
              "      <td>0.586</td>\n",
              "      <td>0.896</td>\n",
              "      <td>10</td>\n",
              "      <td>-6.687</td>\n",
              "      <td>0.10400</td>\n",
              "      <td>0.0559</td>\n",
              "      <td>0.000000</td>\n",
              "      <td>0.7900</td>\n",
              "      <td>0.642</td>\n",
              "      <td>116.971</td>\n",
              "      <td>196653</td>\n",
              "      <td>Hip-Hop/Rap</td>\n",
              "    </tr>\n",
              "    <tr>\n",
              "      <th>3</th>\n",
              "      <td>SAINt JHN</td>\n",
              "      <td>Roses (Imanbek Remix)</td>\n",
              "      <td>Roses - Imanbek Remix</td>\n",
              "      <td>2Wo6QQD1KMDWeFkkjLqwx5</td>\n",
              "      <td>0.721</td>\n",
              "      <td>0.785</td>\n",
              "      <td>8</td>\n",
              "      <td>-5.457</td>\n",
              "      <td>0.01490</td>\n",
              "      <td>0.0506</td>\n",
              "      <td>0.004320</td>\n",
              "      <td>0.2850</td>\n",
              "      <td>0.894</td>\n",
              "      <td>121.962</td>\n",
              "      <td>176219</td>\n",
              "      <td>Dance/Electronic</td>\n",
              "    </tr>\n",
              "    <tr>\n",
              "      <th>4</th>\n",
              "      <td>Dua Lipa</td>\n",
              "      <td>Future Nostalgia</td>\n",
              "      <td>Don't Start Now</td>\n",
              "      <td>3PfIrDoz19wz7qK7tYeu62</td>\n",
              "      <td>0.793</td>\n",
              "      <td>0.793</td>\n",
              "      <td>11</td>\n",
              "      <td>-4.521</td>\n",
              "      <td>0.01230</td>\n",
              "      <td>0.0830</td>\n",
              "      <td>0.000000</td>\n",
              "      <td>0.0951</td>\n",
              "      <td>0.679</td>\n",
              "      <td>123.950</td>\n",
              "      <td>183290</td>\n",
              "      <td>Nu-disco</td>\n",
              "    </tr>\n",
              "  </tbody>\n",
              "</table>\n",
              "</div>\n",
              "    <div class=\"colab-df-buttons\">\n",
              "\n",
              "  <div class=\"colab-df-container\">\n",
              "    <button class=\"colab-df-convert\" onclick=\"convertToInteractive('df-864fe7fc-4fa0-488a-8f63-385a14618e54')\"\n",
              "            title=\"Convert this dataframe to an interactive table.\"\n",
              "            style=\"display:none;\">\n",
              "\n",
              "  <svg xmlns=\"http://www.w3.org/2000/svg\" height=\"24px\" viewBox=\"0 -960 960 960\">\n",
              "    <path d=\"M120-120v-720h720v720H120Zm60-500h600v-160H180v160Zm220 220h160v-160H400v160Zm0 220h160v-160H400v160ZM180-400h160v-160H180v160Zm440 0h160v-160H620v160ZM180-180h160v-160H180v160Zm440 0h160v-160H620v160Z\"/>\n",
              "  </svg>\n",
              "    </button>\n",
              "\n",
              "  <style>\n",
              "    .colab-df-container {\n",
              "      display:flex;\n",
              "      gap: 12px;\n",
              "    }\n",
              "\n",
              "    .colab-df-convert {\n",
              "      background-color: #E8F0FE;\n",
              "      border: none;\n",
              "      border-radius: 50%;\n",
              "      cursor: pointer;\n",
              "      display: none;\n",
              "      fill: #1967D2;\n",
              "      height: 32px;\n",
              "      padding: 0 0 0 0;\n",
              "      width: 32px;\n",
              "    }\n",
              "\n",
              "    .colab-df-convert:hover {\n",
              "      background-color: #E2EBFA;\n",
              "      box-shadow: 0px 1px 2px rgba(60, 64, 67, 0.3), 0px 1px 3px 1px rgba(60, 64, 67, 0.15);\n",
              "      fill: #174EA6;\n",
              "    }\n",
              "\n",
              "    .colab-df-buttons div {\n",
              "      margin-bottom: 4px;\n",
              "    }\n",
              "\n",
              "    [theme=dark] .colab-df-convert {\n",
              "      background-color: #3B4455;\n",
              "      fill: #D2E3FC;\n",
              "    }\n",
              "\n",
              "    [theme=dark] .colab-df-convert:hover {\n",
              "      background-color: #434B5C;\n",
              "      box-shadow: 0px 1px 3px 1px rgba(0, 0, 0, 0.15);\n",
              "      filter: drop-shadow(0px 1px 2px rgba(0, 0, 0, 0.3));\n",
              "      fill: #FFFFFF;\n",
              "    }\n",
              "  </style>\n",
              "\n",
              "    <script>\n",
              "      const buttonEl =\n",
              "        document.querySelector('#df-864fe7fc-4fa0-488a-8f63-385a14618e54 button.colab-df-convert');\n",
              "      buttonEl.style.display =\n",
              "        google.colab.kernel.accessAllowed ? 'block' : 'none';\n",
              "\n",
              "      async function convertToInteractive(key) {\n",
              "        const element = document.querySelector('#df-864fe7fc-4fa0-488a-8f63-385a14618e54');\n",
              "        const dataTable =\n",
              "          await google.colab.kernel.invokeFunction('convertToInteractive',\n",
              "                                                    [key], {});\n",
              "        if (!dataTable) return;\n",
              "\n",
              "        const docLinkHtml = 'Like what you see? Visit the ' +\n",
              "          '<a target=\"_blank\" href=https://colab.research.google.com/notebooks/data_table.ipynb>data table notebook</a>'\n",
              "          + ' to learn more about interactive tables.';\n",
              "        element.innerHTML = '';\n",
              "        dataTable['output_type'] = 'display_data';\n",
              "        await google.colab.output.renderOutput(dataTable, element);\n",
              "        const docLink = document.createElement('div');\n",
              "        docLink.innerHTML = docLinkHtml;\n",
              "        element.appendChild(docLink);\n",
              "      }\n",
              "    </script>\n",
              "  </div>\n",
              "\n",
              "\n",
              "<div id=\"df-aeaf93a5-eb3a-40bb-96ed-bddd549e2231\">\n",
              "  <button class=\"colab-df-quickchart\" onclick=\"quickchart('df-aeaf93a5-eb3a-40bb-96ed-bddd549e2231')\"\n",
              "            title=\"Suggest charts\"\n",
              "            style=\"display:none;\">\n",
              "\n",
              "<svg xmlns=\"http://www.w3.org/2000/svg\" height=\"24px\"viewBox=\"0 0 24 24\"\n",
              "     width=\"24px\">\n",
              "    <g>\n",
              "        <path d=\"M19 3H5c-1.1 0-2 .9-2 2v14c0 1.1.9 2 2 2h14c1.1 0 2-.9 2-2V5c0-1.1-.9-2-2-2zM9 17H7v-7h2v7zm4 0h-2V7h2v10zm4 0h-2v-4h2v4z\"/>\n",
              "    </g>\n",
              "</svg>\n",
              "  </button>\n",
              "\n",
              "<style>\n",
              "  .colab-df-quickchart {\n",
              "      --bg-color: #E8F0FE;\n",
              "      --fill-color: #1967D2;\n",
              "      --hover-bg-color: #E2EBFA;\n",
              "      --hover-fill-color: #174EA6;\n",
              "      --disabled-fill-color: #AAA;\n",
              "      --disabled-bg-color: #DDD;\n",
              "  }\n",
              "\n",
              "  [theme=dark] .colab-df-quickchart {\n",
              "      --bg-color: #3B4455;\n",
              "      --fill-color: #D2E3FC;\n",
              "      --hover-bg-color: #434B5C;\n",
              "      --hover-fill-color: #FFFFFF;\n",
              "      --disabled-bg-color: #3B4455;\n",
              "      --disabled-fill-color: #666;\n",
              "  }\n",
              "\n",
              "  .colab-df-quickchart {\n",
              "    background-color: var(--bg-color);\n",
              "    border: none;\n",
              "    border-radius: 50%;\n",
              "    cursor: pointer;\n",
              "    display: none;\n",
              "    fill: var(--fill-color);\n",
              "    height: 32px;\n",
              "    padding: 0;\n",
              "    width: 32px;\n",
              "  }\n",
              "\n",
              "  .colab-df-quickchart:hover {\n",
              "    background-color: var(--hover-bg-color);\n",
              "    box-shadow: 0 1px 2px rgba(60, 64, 67, 0.3), 0 1px 3px 1px rgba(60, 64, 67, 0.15);\n",
              "    fill: var(--button-hover-fill-color);\n",
              "  }\n",
              "\n",
              "  .colab-df-quickchart-complete:disabled,\n",
              "  .colab-df-quickchart-complete:disabled:hover {\n",
              "    background-color: var(--disabled-bg-color);\n",
              "    fill: var(--disabled-fill-color);\n",
              "    box-shadow: none;\n",
              "  }\n",
              "\n",
              "  .colab-df-spinner {\n",
              "    border: 2px solid var(--fill-color);\n",
              "    border-color: transparent;\n",
              "    border-bottom-color: var(--fill-color);\n",
              "    animation:\n",
              "      spin 1s steps(1) infinite;\n",
              "  }\n",
              "\n",
              "  @keyframes spin {\n",
              "    0% {\n",
              "      border-color: transparent;\n",
              "      border-bottom-color: var(--fill-color);\n",
              "      border-left-color: var(--fill-color);\n",
              "    }\n",
              "    20% {\n",
              "      border-color: transparent;\n",
              "      border-left-color: var(--fill-color);\n",
              "      border-top-color: var(--fill-color);\n",
              "    }\n",
              "    30% {\n",
              "      border-color: transparent;\n",
              "      border-left-color: var(--fill-color);\n",
              "      border-top-color: var(--fill-color);\n",
              "      border-right-color: var(--fill-color);\n",
              "    }\n",
              "    40% {\n",
              "      border-color: transparent;\n",
              "      border-right-color: var(--fill-color);\n",
              "      border-top-color: var(--fill-color);\n",
              "    }\n",
              "    60% {\n",
              "      border-color: transparent;\n",
              "      border-right-color: var(--fill-color);\n",
              "    }\n",
              "    80% {\n",
              "      border-color: transparent;\n",
              "      border-right-color: var(--fill-color);\n",
              "      border-bottom-color: var(--fill-color);\n",
              "    }\n",
              "    90% {\n",
              "      border-color: transparent;\n",
              "      border-bottom-color: var(--fill-color);\n",
              "    }\n",
              "  }\n",
              "</style>\n",
              "\n",
              "  <script>\n",
              "    async function quickchart(key) {\n",
              "      const quickchartButtonEl =\n",
              "        document.querySelector('#' + key + ' button');\n",
              "      quickchartButtonEl.disabled = true;  // To prevent multiple clicks.\n",
              "      quickchartButtonEl.classList.add('colab-df-spinner');\n",
              "      try {\n",
              "        const charts = await google.colab.kernel.invokeFunction(\n",
              "            'suggestCharts', [key], {});\n",
              "      } catch (error) {\n",
              "        console.error('Error during call to suggestCharts:', error);\n",
              "      }\n",
              "      quickchartButtonEl.classList.remove('colab-df-spinner');\n",
              "      quickchartButtonEl.classList.add('colab-df-quickchart-complete');\n",
              "    }\n",
              "    (() => {\n",
              "      let quickchartButtonEl =\n",
              "        document.querySelector('#df-aeaf93a5-eb3a-40bb-96ed-bddd549e2231 button');\n",
              "      quickchartButtonEl.style.display =\n",
              "        google.colab.kernel.accessAllowed ? 'block' : 'none';\n",
              "    })();\n",
              "  </script>\n",
              "</div>\n",
              "\n",
              "    </div>\n",
              "  </div>\n"
            ],
            "application/vnd.google.colaboratory.intrinsic+json": {
              "type": "dataframe",
              "variable_name": "df",
              "summary": "{\n  \"name\": \"df\",\n  \"rows\": 50,\n  \"fields\": [\n    {\n      \"column\": \"artist\",\n      \"properties\": {\n        \"dtype\": \"string\",\n        \"num_unique_values\": 40,\n        \"samples\": [\n          \"Jawsh 685\",\n          \"Doja Cat\",\n          \"Drake\"\n        ],\n        \"semantic_type\": \"\",\n        \"description\": \"\"\n      }\n    },\n    {\n      \"column\": \"album\",\n      \"properties\": {\n        \"dtype\": \"string\",\n        \"num_unique_values\": 45,\n        \"samples\": [\n          \"YHLQMDLG\",\n          \"WHEN WE ALL FALL ASLEEP, WHERE DO WE GO?\",\n          \"WAP (feat. Megan Thee Stallion)\"\n        ],\n        \"semantic_type\": \"\",\n        \"description\": \"\"\n      }\n    },\n    {\n      \"column\": \"track_name\",\n      \"properties\": {\n        \"dtype\": \"string\",\n        \"num_unique_values\": 50,\n        \"samples\": [\n          \"Blueberry Faygo\",\n          \"Ride It\",\n          \"Yummy\"\n        ],\n        \"semantic_type\": \"\",\n        \"description\": \"\"\n      }\n    },\n    {\n      \"column\": \"track_id\",\n      \"properties\": {\n        \"dtype\": \"string\",\n        \"num_unique_values\": 50,\n        \"samples\": [\n          \"22LAwLoDA5b4AaGSkg6bKW\",\n          \"2tnVG71enUj33Ic2nFN6kZ\",\n          \"16wAOAZ2OkqoIDN7TpChjR\"\n        ],\n        \"semantic_type\": \"\",\n        \"description\": \"\"\n      }\n    },\n    {\n      \"column\": \"energy\",\n      \"properties\": {\n        \"dtype\": \"number\",\n        \"std\": 0.15434816857629746,\n        \"min\": 0.225,\n        \"max\": 0.855,\n        \"num_unique_values\": 49,\n        \"samples\": [\n          0.554,\n          0.566,\n          0.473\n        ],\n        \"semantic_type\": \"\",\n        \"description\": \"\"\n      }\n    },\n    {\n      \"column\": \"danceability\",\n      \"properties\": {\n        \"dtype\": \"number\",\n        \"std\": 0.12497526939032248,\n        \"min\": 0.351,\n        \"max\": 0.935,\n        \"num_unique_values\": 48,\n        \"samples\": [\n          0.935,\n          0.716,\n          0.701\n        ],\n        \"semantic_type\": \"\",\n        \"description\": \"\"\n      }\n    },\n    {\n      \"column\": \"key\",\n      \"properties\": {\n        \"dtype\": \"number\",\n        \"std\": 3,\n        \"min\": 0,\n        \"max\": 11,\n        \"num_unique_values\": 12,\n        \"samples\": [\n          5,\n          7,\n          1\n        ],\n        \"semantic_type\": \"\",\n        \"description\": \"\"\n      }\n    },\n    {\n      \"column\": \"loudness\",\n      \"properties\": {\n        \"dtype\": \"number\",\n        \"std\": 2.3497437571977495,\n        \"min\": -14.454,\n        \"max\": -3.28,\n        \"num_unique_values\": 50,\n        \"samples\": [\n          -7.909,\n          -4.258,\n          -6.652\n        ],\n        \"semantic_type\": \"\",\n        \"description\": \"\"\n      }\n    },\n    {\n      \"column\": \"acousticness\",\n      \"properties\": {\n        \"dtype\": \"number\",\n        \"std\": 0.2652504754200667,\n        \"min\": 0.00146,\n        \"max\": 0.934,\n        \"num_unique_values\": 49,\n        \"samples\": [\n          0.207,\n          0.349,\n          0.0137\n        ],\n        \"semantic_type\": \"\",\n        \"description\": \"\"\n      }\n    },\n    {\n      \"column\": \"speechiness\",\n      \"properties\": {\n        \"dtype\": \"number\",\n        \"std\": 0.116836367503567,\n        \"min\": 0.029,\n        \"max\": 0.487,\n        \"num_unique_values\": 48,\n        \"samples\": [\n          0.0578,\n          0.0514,\n          0.375\n        ],\n        \"semantic_type\": \"\",\n        \"description\": \"\"\n      }\n    },\n    {\n      \"column\": \"instrumentalness\",\n      \"properties\": {\n        \"dtype\": \"number\",\n        \"std\": 0.09431165145317491,\n        \"min\": 0.0,\n        \"max\": 0.657,\n        \"num_unique_values\": 19,\n        \"samples\": [\n          9.54e-05,\n          0.00244,\n          1.39e-06\n        ],\n        \"semantic_type\": \"\",\n        \"description\": \"\"\n      }\n    },\n    {\n      \"column\": \"liveness\",\n      \"properties\": {\n        \"dtype\": \"number\",\n        \"std\": 0.176609946376708,\n        \"min\": 0.0574,\n        \"max\": 0.792,\n        \"num_unique_values\": 47,\n        \"samples\": [\n          0.0714,\n          0.792,\n          0.0824\n        ],\n        \"semantic_type\": \"\",\n        \"description\": \"\"\n      }\n    },\n    {\n      \"column\": \"valence\",\n      \"properties\": {\n        \"dtype\": \"number\",\n        \"std\": 0.21638641951615262,\n        \"min\": 0.0605,\n        \"max\": 0.925,\n        \"num_unique_values\": 47,\n        \"samples\": [\n          0.357,\n          0.43,\n          0.562\n        ],\n        \"semantic_type\": \"\",\n        \"description\": \"\"\n      }\n    },\n    {\n      \"column\": \"tempo\",\n      \"properties\": {\n        \"dtype\": \"number\",\n        \"std\": 25.414778362855365,\n        \"min\": 75.801,\n        \"max\": 180.067,\n        \"num_unique_values\": 50,\n        \"samples\": [\n          99.034,\n          117.948,\n          145.842\n        ],\n        \"semantic_type\": \"\",\n        \"description\": \"\"\n      }\n    },\n    {\n      \"column\": \"duration_ms\",\n      \"properties\": {\n        \"dtype\": \"number\",\n        \"std\": 33996,\n        \"min\": 140526,\n        \"max\": 312820,\n        \"num_unique_values\": 50,\n        \"samples\": [\n          162547,\n          157606,\n          208520\n        ],\n        \"semantic_type\": \"\",\n        \"description\": \"\"\n      }\n    },\n    {\n      \"column\": \"genre\",\n      \"properties\": {\n        \"dtype\": \"category\",\n        \"num_unique_values\": 16,\n        \"samples\": [\n          \"R&B/Soul\",\n          \"Alternative/Indie\",\n          \"Pop\"\n        ],\n        \"semantic_type\": \"\",\n        \"description\": \"\"\n      }\n    }\n  ]\n}"
            }
          },
          "metadata": {},
          "execution_count": 4
        }
      ]
    },
    {
      "cell_type": "markdown",
      "source": [
        "## Data Cleaning"
      ],
      "metadata": {
        "id": "nF66BbiS9tO1"
      }
    },
    {
      "cell_type": "markdown",
      "source": [
        "1.1 Check for missing values and delete them if there is any"
      ],
      "metadata": {
        "id": "ptCrHuf246ZP"
      }
    },
    {
      "cell_type": "code",
      "source": [
        "print(df.isnull().sum())\n",
        "\n",
        "#The dataset does not contain any missing values"
      ],
      "metadata": {
        "colab": {
          "base_uri": "https://localhost:8080/"
        },
        "id": "lT6uXOY99vmP",
        "outputId": "e1b628a7-bfea-4c5e-df95-8b599520bc10"
      },
      "execution_count": null,
      "outputs": [
        {
          "output_type": "stream",
          "name": "stdout",
          "text": [
            "artist              0\n",
            "album               0\n",
            "track_name          0\n",
            "track_id            0\n",
            "energy              0\n",
            "danceability        0\n",
            "key                 0\n",
            "loudness            0\n",
            "acousticness        0\n",
            "speechiness         0\n",
            "instrumentalness    0\n",
            "liveness            0\n",
            "valence             0\n",
            "tempo               0\n",
            "duration_ms         0\n",
            "genre               0\n",
            "dtype: int64\n"
          ]
        }
      ]
    },
    {
      "cell_type": "markdown",
      "source": [
        "1.2 Removing duplicate samples and features"
      ],
      "metadata": {
        "id": "Yndk_puP5EH2"
      }
    },
    {
      "cell_type": "code",
      "source": [
        "# Check for duplicate rows\n",
        "duplicate_rows = df.duplicated()\n",
        "\n",
        "# Count the number of duplicate rows\n",
        "num_duplicate_rows = duplicate_rows.sum()\n",
        "print(f\"Number of duplicate rows: {num_duplicate_rows}\")"
      ],
      "metadata": {
        "colab": {
          "base_uri": "https://localhost:8080/"
        },
        "id": "IsP4w_RDAFAC",
        "outputId": "277e2987-f418-4ca0-a442-d3dddb11f4c6"
      },
      "execution_count": null,
      "outputs": [
        {
          "output_type": "stream",
          "name": "stdout",
          "text": [
            "Number of duplicate rows: 0\n"
          ]
        }
      ]
    },
    {
      "cell_type": "code",
      "source": [
        "\n",
        "duplicate_columns = df.T.duplicated()\n",
        "\n",
        "num_duplicate_columns = duplicate_columns.sum()\n",
        "print(f\"Number of duplicate columns: {num_duplicate_columns}\")"
      ],
      "metadata": {
        "colab": {
          "base_uri": "https://localhost:8080/"
        },
        "id": "7B7YiAMtAMwv",
        "outputId": "861da864-7dea-4a24-e664-e15f72e19ad6"
      },
      "execution_count": null,
      "outputs": [
        {
          "output_type": "stream",
          "name": "stdout",
          "text": [
            "Number of duplicate columns: 0\n"
          ]
        }
      ]
    },
    {
      "cell_type": "markdown",
      "source": [
        "1.3 Treating the outliers"
      ],
      "metadata": {
        "id": "qxXBzcWC5P9j"
      }
    },
    {
      "cell_type": "code",
      "source": [
        "numerical_columns = df.select_dtypes(include=['float64', 'int64']).columns"
      ],
      "metadata": {
        "id": "9PwFwp11DJdI"
      },
      "execution_count": 14,
      "outputs": []
    },
    {
      "cell_type": "code",
      "source": [
        "import matplotlib.pyplot as plt\n",
        "import seaborn as sns\n",
        "\n",
        "# Visualize numerical columns for outliers\n",
        "plt.figure(figsize=(15, 10))\n",
        "for i, col in enumerate(numerical_columns, 1):\n",
        "    plt.subplot(4, 3, i)\n",
        "    sns.boxplot(y=df[col])\n",
        "    plt.title(col)\n",
        "plt.tight_layout()\n",
        "plt.show()"
      ],
      "metadata": {
        "colab": {
          "base_uri": "https://localhost:8080/",
          "height": 961
        },
        "id": "L18QM0GzHE6F",
        "outputId": "8e315140-48b3-42f7-e8dd-7458709f5466"
      },
      "execution_count": null,
      "outputs": [
        {
          "output_type": "display_data",
          "data": {
            "text/plain": [
              "<Figure size 1500x1000 with 10 Axes>"
            ],
            "image/png": "[encoded data removed]"
          },
          "metadata": {}
        }
      ]
    },
    {
      "cell_type": "code",
      "source": [
        "Q1 = df[numerical_columns].quantile(0.25)\n",
        "Q3 = df[numerical_columns].quantile(0.75)\n",
        "IQR = Q3 - Q1  # Interquartile Range\n",
        "\n",
        "# outlier bounds\n",
        "lower_bound = Q1 - 1.5 * IQR\n",
        "upper_bound = Q3 + 1.5 * IQR\n",
        "\n",
        "outlier_mask = (df[numerical_columns] < lower_bound) | (df[numerical_columns] > upper_bound)\n",
        "\n",
        "outliers = df[outlier_mask.any(axis=1)]\n",
        "print(f\"\\nNumber of rows with outliers: {len(outliers)}\")\n",
        "\n",
        "\n",
        "# *NOTE* Since it is a really small dataset, I will not remove the rows that contain outliers"
      ],
      "metadata": {
        "colab": {
          "base_uri": "https://localhost:8080/"
        },
        "id": "7NYjZbSbEi4B",
        "outputId": "24f9fff8-b9f9-4f34-d7c1-ea53da2cd06c"
      },
      "execution_count": null,
      "outputs": [
        {
          "output_type": "stream",
          "name": "stdout",
          "text": [
            "\n",
            "Number of rows with outliers: 25\n"
          ]
        }
      ]
    },
    {
      "cell_type": "markdown",
      "source": [
        "#EDA\n"
      ],
      "metadata": {
        "id": "YJSiWK529v78"
      }
    },
    {
      "cell_type": "code",
      "source": [
        "df.info()"
      ],
      "metadata": {
        "colab": {
          "base_uri": "https://localhost:8080/"
        },
        "id": "QSWGMxg3IWXM",
        "outputId": "05676435-08be-451f-a232-a94ea5d7b698"
      },
      "execution_count": null,
      "outputs": [
        {
          "output_type": "stream",
          "name": "stdout",
          "text": [
            "<class 'pandas.core.frame.DataFrame'>\n",
            "Index: 50 entries, 0 to 49\n",
            "Data columns (total 16 columns):\n",
            " #   Column            Non-Null Count  Dtype  \n",
            "---  ------            --------------  -----  \n",
            " 0   artist            50 non-null     object \n",
            " 1   album             50 non-null     object \n",
            " 2   track_name        50 non-null     object \n",
            " 3   track_id          50 non-null     object \n",
            " 4   energy            50 non-null     float64\n",
            " 5   danceability      50 non-null     float64\n",
            " 6   key               50 non-null     int64  \n",
            " 7   loudness          50 non-null     float64\n",
            " 8   acousticness      50 non-null     float64\n",
            " 9   speechiness       50 non-null     float64\n",
            " 10  instrumentalness  50 non-null     float64\n",
            " 11  liveness          50 non-null     float64\n",
            " 12  valence           50 non-null     float64\n",
            " 13  tempo             50 non-null     float64\n",
            " 14  duration_ms       50 non-null     float64\n",
            " 15  genre             50 non-null     object \n",
            "dtypes: float64(10), int64(1), object(5)\n",
            "memory usage: 6.6+ KB\n"
          ]
        }
      ]
    },
    {
      "cell_type": "markdown",
      "source": [
        "2.1 How many observations are there in this dataset?"
      ],
      "metadata": {
        "id": "-4YOM75q5nPF"
      }
    },
    {
      "cell_type": "code",
      "source": [
        "num_observations = df.shape[0]\n",
        "print(f\"Number of observations: {num_observations}\")"
      ],
      "metadata": {
        "colab": {
          "base_uri": "https://localhost:8080/"
        },
        "id": "KFi14YlQ9yxZ",
        "outputId": "9ffb40c1-9443-4917-8fac-4c79c2b4f493"
      },
      "execution_count": null,
      "outputs": [
        {
          "output_type": "stream",
          "name": "stdout",
          "text": [
            "Number of observations: 50\n"
          ]
        }
      ]
    },
    {
      "cell_type": "markdown",
      "source": [
        "2.2 How many features this dataset has?"
      ],
      "metadata": {
        "id": "Fc3zn4JN5qm1"
      }
    },
    {
      "cell_type": "code",
      "source": [
        "num_features = df.shape[1]\n",
        "print(f\"Number of features: {num_features}\")"
      ],
      "metadata": {
        "colab": {
          "base_uri": "https://localhost:8080/"
        },
        "id": "buxvj_cwFT9j",
        "outputId": "c3550a82-6f3e-4626-864f-9fc0610fb740"
      },
      "execution_count": null,
      "outputs": [
        {
          "output_type": "stream",
          "name": "stdout",
          "text": [
            "Number of features: 16\n"
          ]
        }
      ]
    },
    {
      "cell_type": "markdown",
      "source": [
        "2.3 Which of the features are categorical?"
      ],
      "metadata": {
        "id": "nEuFgoJv51Fc"
      }
    },
    {
      "cell_type": "code",
      "source": [
        "categorical_features = df.select_dtypes(include=['object']).columns.tolist()\n",
        "print(f\"Categorical features: {categorical_features}\")"
      ],
      "metadata": {
        "colab": {
          "base_uri": "https://localhost:8080/"
        },
        "id": "LJGjXTibFUAX",
        "outputId": "e7544601-5016-4ebc-9a52-578f1fc3cf26"
      },
      "execution_count": null,
      "outputs": [
        {
          "output_type": "stream",
          "name": "stdout",
          "text": [
            "Categorical features: ['artist', 'album', 'track_name', 'track_id', 'genre']\n"
          ]
        }
      ]
    },
    {
      "cell_type": "markdown",
      "source": [
        "2.4 Which of the features are numeric?"
      ],
      "metadata": {
        "id": "8x3IxL3Y579D"
      }
    },
    {
      "cell_type": "code",
      "source": [
        "numeric_features = df.select_dtypes(include=['float64', 'int64']).columns.tolist()\n",
        "print(f\"Numeric features: {numeric_features}\")"
      ],
      "metadata": {
        "colab": {
          "base_uri": "https://localhost:8080/"
        },
        "id": "vOw7B5FWFUDm",
        "outputId": "82eacf3b-9b94-4f64-a2ab-81aefaf1f717"
      },
      "execution_count": null,
      "outputs": [
        {
          "output_type": "stream",
          "name": "stdout",
          "text": [
            "Numeric features: ['energy', 'danceability', 'key', 'loudness', 'acousticness', 'speechiness', 'instrumentalness', 'liveness', 'valence', 'tempo', 'duration_ms']\n"
          ]
        }
      ]
    },
    {
      "cell_type": "markdown",
      "source": [
        "2.5 Are there any artists that have more than 1 popular track? If yes, which and how many?"
      ],
      "metadata": {
        "id": "kqHgy8_S5-2e"
      }
    },
    {
      "cell_type": "code",
      "source": [
        "artist_counts = df['artist'].value_counts()\n",
        "artists_with_multiple_tracks = artist_counts[artist_counts > 1]\n",
        "print(f\"Artists with more than 1 popular track:\\n{artists_with_multiple_tracks}\")"
      ],
      "metadata": {
        "colab": {
          "base_uri": "https://localhost:8080/"
        },
        "id": "KylUcZaiFUMa",
        "outputId": "6e77be55-7c51-4e60-a32f-289d6277d7ba"
      },
      "execution_count": null,
      "outputs": [
        {
          "output_type": "stream",
          "name": "stdout",
          "text": [
            "Artists with more than 1 popular track:\n",
            "artist\n",
            "Billie Eilish    3\n",
            "Dua Lipa         3\n",
            "Travis Scott     3\n",
            "Justin Bieber    2\n",
            "Harry Styles     2\n",
            "Lewis Capaldi    2\n",
            "Post Malone      2\n",
            "Name: count, dtype: int64\n"
          ]
        }
      ]
    },
    {
      "cell_type": "markdown",
      "source": [
        "2.6 Who was the most popular artist?"
      ],
      "metadata": {
        "id": "aWMX_oKo6DMJ"
      }
    },
    {
      "cell_type": "code",
      "source": [
        "most_popular_artist = artist_counts.idxmax()\n",
        "print(f\"Most popular artist: {most_popular_artist}\")"
      ],
      "metadata": {
        "colab": {
          "base_uri": "https://localhost:8080/"
        },
        "id": "uFwTNL7tFUQF",
        "outputId": "9594a1a6-5457-4df9-d3a9-e2b92d952231"
      },
      "execution_count": null,
      "outputs": [
        {
          "output_type": "stream",
          "name": "stdout",
          "text": [
            "Most popular artist: Billie Eilish\n"
          ]
        }
      ]
    },
    {
      "cell_type": "markdown",
      "source": [
        "2.7 How many artists in total have their songs in the top 50?"
      ],
      "metadata": {
        "id": "pEwatqQz6HOD"
      }
    },
    {
      "cell_type": "code",
      "source": [
        "total_artists = df['artist'].nunique()\n",
        "print(f\"Total number of artists in the top 50:\\n {total_artists} Artists\")"
      ],
      "metadata": {
        "colab": {
          "base_uri": "https://localhost:8080/"
        },
        "id": "JFmY2VWzFUTg",
        "outputId": "0f50e325-1b22-4164-9e34-9367051d9a91"
      },
      "execution_count": null,
      "outputs": [
        {
          "output_type": "stream",
          "name": "stdout",
          "text": [
            "Total number of artists in the top 50:\n",
            " 40 Artists\n"
          ]
        }
      ]
    },
    {
      "cell_type": "markdown",
      "source": [
        "2.8 Are there any albums that have more than 1 popular track? If yes, which and how many?"
      ],
      "metadata": {
        "id": "RXG2KAV66Jp1"
      }
    },
    {
      "cell_type": "code",
      "source": [
        "album_counts = df['album'].value_counts()\n",
        "albums_with_multiple_tracks = album_counts[album_counts > 1]\n",
        "print(f\"Albums with more than 1 popular track:\\n{albums_with_multiple_tracks}\")"
      ],
      "metadata": {
        "colab": {
          "base_uri": "https://localhost:8080/"
        },
        "id": "Zo8CqrOdGmtA",
        "outputId": "20ecbaf8-097d-4388-b711-4e42936c67f2"
      },
      "execution_count": null,
      "outputs": [
        {
          "output_type": "stream",
          "name": "stdout",
          "text": [
            "Albums with more than 1 popular track:\n",
            "album\n",
            "Future Nostalgia        3\n",
            "Hollywood's Bleeding    2\n",
            "Fine Line               2\n",
            "Changes                 2\n",
            "Name: count, dtype: int64\n"
          ]
        }
      ]
    },
    {
      "cell_type": "markdown",
      "source": [
        "2.9 How many albums in total have their songs in the top 50?"
      ],
      "metadata": {
        "id": "NOjMbstU6KWI"
      }
    },
    {
      "cell_type": "code",
      "source": [
        "total_albums = df['album'].nunique()\n",
        "print(f\"Total albums in the top 50: {total_albums}\")"
      ],
      "metadata": {
        "colab": {
          "base_uri": "https://localhost:8080/"
        },
        "id": "LFT5qGw9Gm2X",
        "outputId": "65c0aa7a-fb6c-4df4-e46d-a8d5dd89dacd"
      },
      "execution_count": null,
      "outputs": [
        {
          "output_type": "stream",
          "name": "stdout",
          "text": [
            "Total albums in the top 50: 45\n"
          ]
        }
      ]
    },
    {
      "cell_type": "markdown",
      "source": [
        "2.10 Which tracks have a danceability score above 0.7?"
      ],
      "metadata": {
        "id": "lv-ynxho6K_I"
      }
    },
    {
      "cell_type": "code",
      "source": [
        "high_danceability_tracks = df[df['danceability'] > 0.7][['track_name', 'danceability']]\n",
        "print(\"Tracks with danceability above 0.7:\")\n",
        "print(high_danceability_tracks)"
      ],
      "metadata": {
        "colab": {
          "base_uri": "https://localhost:8080/"
        },
        "id": "tvAFRe2XGm5d",
        "outputId": "18d224a2-18f2-4684-f41f-83fd2065fce2"
      },
      "execution_count": null,
      "outputs": [
        {
          "output_type": "stream",
          "name": "stdout",
          "text": [
            "Tracks with danceability above 0.7:\n",
            "                                       track_name  danceability\n",
            "1                                    Dance Monkey         0.825\n",
            "2                                         The Box         0.896\n",
            "3                           Roses - Imanbek Remix         0.785\n",
            "4                                 Don't Start Now         0.793\n",
            "5                    ROCKSTAR (feat. Roddy Ricch)         0.746\n",
            "7                death bed (coffee for your head)         0.726\n",
            "8                                         Falling         0.784\n",
            "10                                           Tusa         0.803\n",
            "13                                Blueberry Faygo         0.774\n",
            "14                       Intentions (feat. Quavo)         0.806\n",
            "15                                   Toosie Slide         0.830\n",
            "17                                         Say So         0.787\n",
            "18                                       Memories         0.764\n",
            "19                     Life Is Good (feat. Drake)         0.795\n",
            "20               Savage Love (Laxed - Siren Beat)         0.767\n",
            "22                                    Breaking Me         0.789\n",
            "24                            everything i wanted         0.704\n",
            "25                                       Señorita         0.759\n",
            "26                                        bad guy         0.701\n",
            "27                WAP (feat. Megan Thee Stallion)         0.935\n",
            "28                                    Sunday Best         0.878\n",
            "29                    Godzilla (feat. Juice WRLD)         0.808\n",
            "31                                 Break My Heart         0.730\n",
            "32                                       Dynamite         0.746\n",
            "33               Supalonely (feat. Gus Dapperton)         0.862\n",
            "37  Sunflower - Spider-Man: Into the Spider-Verse         0.755\n",
            "38                                          Hawái         0.783\n",
            "39                                        Ride It         0.880\n",
            "40                                     goosebumps         0.841\n",
            "41                      RITMO (Bad Boys For Life)         0.723\n",
            "42                                     THE SCOTTS         0.716\n",
            "49                                     SICKO MODE         0.834\n"
          ]
        }
      ]
    },
    {
      "cell_type": "markdown",
      "source": [
        "2.11 Which tracks have a danceability score below 0.4?"
      ],
      "metadata": {
        "id": "uHMTP57o6Laz"
      }
    },
    {
      "cell_type": "code",
      "source": [
        "low_danceability_tracks = df[df['danceability'] < 0.4][['track_name', 'danceability']]\n",
        "print(\"Tracks with danceability below 0.4:\")\n",
        "print(low_danceability_tracks)"
      ],
      "metadata": {
        "colab": {
          "base_uri": "https://localhost:8080/"
        },
        "id": "E2NpD6HJJLhk",
        "outputId": "6566315b-020f-4804-ae76-f401085dcdf2"
      },
      "execution_count": null,
      "outputs": [
        {
          "output_type": "stream",
          "name": "stdout",
          "text": [
            "Tracks with danceability below 0.4:\n",
            "              track_name  danceability\n",
            "44  lovely (with Khalid)         0.351\n"
          ]
        }
      ]
    },
    {
      "cell_type": "markdown",
      "source": [
        "2.12 Which tracks have their loudness above -5?"
      ],
      "metadata": {
        "id": "kmolqlNr6a68"
      }
    },
    {
      "cell_type": "code",
      "source": [
        "high_loudness_tracks = df[df['loudness'] > -5][['track_name', 'loudness']]\n",
        "print(\"Tracks with loudness above -5:\")\n",
        "print(high_loudness_tracks)"
      ],
      "metadata": {
        "colab": {
          "base_uri": "https://localhost:8080/"
        },
        "id": "5nUreN4dGm8r",
        "outputId": "d4ae3e8e-0ea3-425a-d97b-45ebf12b7d0d"
      },
      "execution_count": null,
      "outputs": [
        {
          "output_type": "stream",
          "name": "stdout",
          "text": [
            "Tracks with loudness above -5:\n",
            "                                       track_name  loudness\n",
            "4                                 Don't Start Now    -4.521\n",
            "6                                Watermelon Sugar    -4.209\n",
            "10                                           Tusa    -3.280\n",
            "12                                        Circles    -3.497\n",
            "16                                  Before You Go    -4.858\n",
            "17                                         Say So    -4.577\n",
            "21                                      Adore You    -3.675\n",
            "23                         Mood (feat. iann dior)    -3.558\n",
            "31                                 Break My Heart    -3.434\n",
            "32                                       Dynamite    -4.410\n",
            "33               Supalonely (feat. Gus Dapperton)    -4.746\n",
            "35                Rain On Me (with Ariana Grande)    -3.764\n",
            "37  Sunflower - Spider-Man: Into the Spider-Verse    -4.368\n",
            "38                                          Hawái    -3.454\n",
            "39                                        Ride It    -4.258\n",
            "40                                     goosebumps    -3.370\n",
            "43                                        Safaera    -4.074\n",
            "48                                       Physical    -3.756\n",
            "49                                     SICKO MODE    -3.714\n"
          ]
        }
      ]
    },
    {
      "cell_type": "markdown",
      "source": [
        "2.13 Which tracks have their loudness below -8?"
      ],
      "metadata": {
        "id": "qetnBjLB6dbE"
      }
    },
    {
      "cell_type": "code",
      "source": [
        "low_loudness_tracks = df[df['loudness'] < -8][['track_name', 'loudness']]\n",
        "print(\"Tracks with loudness below -8:\")\n",
        "print(low_loudness_tracks)"
      ],
      "metadata": {
        "colab": {
          "base_uri": "https://localhost:8080/"
        },
        "id": "tizOxLWyJS7f",
        "outputId": "c9508c62-c985-48ea-dbf4-16a9b8ed7068"
      },
      "execution_count": null,
      "outputs": [
        {
          "output_type": "stream",
          "name": "stdout",
          "text": [
            "Tracks with loudness below -8:\n",
            "                                        track_name  loudness\n",
            "7                 death bed (coffee for your head)    -8.765\n",
            "8                                          Falling    -8.756\n",
            "15                                    Toosie Slide    -8.820\n",
            "20                Savage Love (Laxed - Siren Beat)    -8.520\n",
            "24                             everything i wanted   -14.454\n",
            "26                                         bad guy   -10.965\n",
            "36                             HIGHEST IN THE ROOM    -8.764\n",
            "44                            lovely (with Khalid)   -10.109\n",
            "47  If the World Was Ending - feat. Julia Michaels   -10.086\n"
          ]
        }
      ]
    },
    {
      "cell_type": "markdown",
      "source": [
        "2.14 Which track is the longest?"
      ],
      "metadata": {
        "id": "bupvZqpr6iSs"
      }
    },
    {
      "cell_type": "code",
      "source": [
        "longest_track = df.loc[df['duration_ms'].idxmax(), ['track_name', 'duration_ms']]\n",
        "print(\"Longest track:\")\n",
        "print(longest_track)"
      ],
      "metadata": {
        "colab": {
          "base_uri": "https://localhost:8080/"
        },
        "id": "Z8kLhBJUJUTD",
        "outputId": "90e494e8-6710-43aa-81d0-a49900db9cf8"
      },
      "execution_count": 5,
      "outputs": [
        {
          "output_type": "stream",
          "name": "stdout",
          "text": [
            "Longest track:\n",
            "track_name     SICKO MODE\n",
            "duration_ms        312820\n",
            "Name: 49, dtype: object\n"
          ]
        }
      ]
    },
    {
      "cell_type": "code",
      "source": [
        "longest_track_in_m = longest_track['duration_ms'] / 60000\n",
        "print(f\"Longest track in minutes: {longest_track_in_m}\")"
      ],
      "metadata": {
        "id": "VJq_gvqYICrz",
        "outputId": "5bcf1c71-bdb7-41e2-d601-69e19a3d26c2",
        "colab": {
          "base_uri": "https://localhost:8080/"
        }
      },
      "execution_count": 8,
      "outputs": [
        {
          "output_type": "stream",
          "name": "stdout",
          "text": [
            "Longest track in minutes: 5.213666666666667\n"
          ]
        }
      ]
    },
    {
      "cell_type": "markdown",
      "source": [
        "2.15 Which track is the shortest?"
      ],
      "metadata": {
        "id": "2q0hKNnn6lPA"
      }
    },
    {
      "cell_type": "code",
      "source": [
        "shortest_track = df.loc[df['duration_ms'].idxmin(), ['track_name', 'duration_ms']]\n",
        "print(\"Shortest track:\")\n",
        "print(shortest_track)"
      ],
      "metadata": {
        "id": "pwUWOWMKJU23",
        "outputId": "0b071505-8e30-4743-ffce-0e4ea0d7e4f2",
        "colab": {
          "base_uri": "https://localhost:8080/"
        }
      },
      "execution_count": 9,
      "outputs": [
        {
          "output_type": "stream",
          "name": "stdout",
          "text": [
            "Shortest track:\n",
            "track_name     Mood (feat. iann dior)\n",
            "duration_ms                    140526\n",
            "Name: 23, dtype: object\n"
          ]
        }
      ]
    },
    {
      "cell_type": "code",
      "source": [
        "shortest_track_in_m = shortest_track['duration_ms'] / 60000\n",
        "print(f\"Longest track in minutes: {shortest_track_in_m}\")"
      ],
      "metadata": {
        "id": "2eYuDsTBIl0w",
        "outputId": "bafcff19-4cd4-48f8-8bcc-5c17ff69882f",
        "colab": {
          "base_uri": "https://localhost:8080/"
        }
      },
      "execution_count": 10,
      "outputs": [
        {
          "output_type": "stream",
          "name": "stdout",
          "text": [
            "Longest track in minutes: 2.3421\n"
          ]
        }
      ]
    },
    {
      "cell_type": "markdown",
      "source": [
        "2.16 Which genre is the most popular?"
      ],
      "metadata": {
        "id": "D6TeDJd66noe"
      }
    },
    {
      "cell_type": "code",
      "source": [
        "most_popular_genre = df['genre'].value_counts().idxmax()\n",
        "print(f\"Most popular genre: {most_popular_genre}\")"
      ],
      "metadata": {
        "colab": {
          "base_uri": "https://localhost:8080/"
        },
        "id": "MJ7izu_ZJU6E",
        "outputId": "912e123c-abab-4d89-9fa4-1947dfb6331f"
      },
      "execution_count": 11,
      "outputs": [
        {
          "output_type": "stream",
          "name": "stdout",
          "text": [
            "Most popular genre: Pop\n"
          ]
        }
      ]
    },
    {
      "cell_type": "markdown",
      "source": [
        "2.17 Which genres have just one song on the top 50?"
      ],
      "metadata": {
        "id": "0MuETFpz6qT9"
      }
    },
    {
      "cell_type": "code",
      "source": [
        "genres_with_one_song = df['genre'].value_counts()[df['genre'].value_counts() == 1].index.to_frame(index = False)\n",
        "print(\"Genres with just one song:\")\n",
        "genres_with_one_song"
      ],
      "metadata": {
        "colab": {
          "base_uri": "https://localhost:8080/",
          "height": 381
        },
        "id": "P3FBjLjTJU9C",
        "outputId": "7e8c8785-dbfe-40a6-ccd0-c85d2fadf0ea"
      },
      "execution_count": 12,
      "outputs": [
        {
          "output_type": "stream",
          "name": "stdout",
          "text": [
            "Genres with just one song:\n"
          ]
        },
        {
          "output_type": "execute_result",
          "data": {
            "text/plain": [
              "                                genre\n",
              "0                            Nu-disco\n",
              "1             R&B/Hip-Hop alternative\n",
              "2                       Pop/Soft Rock\n",
              "3                             Pop rap\n",
              "4                        Hip-Hop/Trap\n",
              "5                     Dance-pop/Disco\n",
              "6                           Disco-pop\n",
              "7                Dreampop/Hip-Hop/R&B\n",
              "8  Alternative/reggaeton/experimental\n",
              "9                         Chamber pop"
            ],
            "text/html": [
              "\n",
              "  <div id=\"df-091d693e-a864-4228-a048-6c6fcdd05f4c\" class=\"colab-df-container\">\n",
              "    <div>\n",
              "<style scoped>\n",
              "    .dataframe tbody tr th:only-of-type {\n",
              "        vertical-align: middle;\n",
              "    }\n",
              "\n",
              "    .dataframe tbody tr th {\n",
              "        vertical-align: top;\n",
              "    }\n",
              "\n",
              "    .dataframe thead th {\n",
              "        text-align: right;\n",
              "    }\n",
              "</style>\n",
              "<table border=\"1\" class=\"dataframe\">\n",
              "  <thead>\n",
              "    <tr style=\"text-align: right;\">\n",
              "      <th></th>\n",
              "      <th>genre</th>\n",
              "    </tr>\n",
              "  </thead>\n",
              "  <tbody>\n",
              "    <tr>\n",
              "      <th>0</th>\n",
              "      <td>Nu-disco</td>\n",
              "    </tr>\n",
              "    <tr>\n",
              "      <th>1</th>\n",
              "      <td>R&amp;B/Hip-Hop alternative</td>\n",
              "    </tr>\n",
              "    <tr>\n",
              "      <th>2</th>\n",
              "      <td>Pop/Soft Rock</td>\n",
              "    </tr>\n",
              "    <tr>\n",
              "      <th>3</th>\n",
              "      <td>Pop rap</td>\n",
              "    </tr>\n",
              "    <tr>\n",
              "      <th>4</th>\n",
              "      <td>Hip-Hop/Trap</td>\n",
              "    </tr>\n",
              "    <tr>\n",
              "      <th>5</th>\n",
              "      <td>Dance-pop/Disco</td>\n",
              "    </tr>\n",
              "    <tr>\n",
              "      <th>6</th>\n",
              "      <td>Disco-pop</td>\n",
              "    </tr>\n",
              "    <tr>\n",
              "      <th>7</th>\n",
              "      <td>Dreampop/Hip-Hop/R&amp;B</td>\n",
              "    </tr>\n",
              "    <tr>\n",
              "      <th>8</th>\n",
              "      <td>Alternative/reggaeton/experimental</td>\n",
              "    </tr>\n",
              "    <tr>\n",
              "      <th>9</th>\n",
              "      <td>Chamber pop</td>\n",
              "    </tr>\n",
              "  </tbody>\n",
              "</table>\n",
              "</div>\n",
              "    <div class=\"colab-df-buttons\">\n",
              "\n",
              "  <div class=\"colab-df-container\">\n",
              "    <button class=\"colab-df-convert\" onclick=\"convertToInteractive('df-091d693e-a864-4228-a048-6c6fcdd05f4c')\"\n",
              "            title=\"Convert this dataframe to an interactive table.\"\n",
              "            style=\"display:none;\">\n",
              "\n",
              "  <svg xmlns=\"http://www.w3.org/2000/svg\" height=\"24px\" viewBox=\"0 -960 960 960\">\n",
              "    <path d=\"M120-120v-720h720v720H120Zm60-500h600v-160H180v160Zm220 220h160v-160H400v160Zm0 220h160v-160H400v160ZM180-400h160v-160H180v160Zm440 0h160v-160H620v160ZM180-180h160v-160H180v160Zm440 0h160v-160H620v160Z\"/>\n",
              "  </svg>\n",
              "    </button>\n",
              "\n",
              "  <style>\n",
              "    .colab-df-container {\n",
              "      display:flex;\n",
              "      gap: 12px;\n",
              "    }\n",
              "\n",
              "    .colab-df-convert {\n",
              "      background-color: #E8F0FE;\n",
              "      border: none;\n",
              "      border-radius: 50%;\n",
              "      cursor: pointer;\n",
              "      display: none;\n",
              "      fill: #1967D2;\n",
              "      height: 32px;\n",
              "      padding: 0 0 0 0;\n",
              "      width: 32px;\n",
              "    }\n",
              "\n",
              "    .colab-df-convert:hover {\n",
              "      background-color: #E2EBFA;\n",
              "      box-shadow: 0px 1px 2px rgba(60, 64, 67, 0.3), 0px 1px 3px 1px rgba(60, 64, 67, 0.15);\n",
              "      fill: #174EA6;\n",
              "    }\n",
              "\n",
              "    .colab-df-buttons div {\n",
              "      margin-bottom: 4px;\n",
              "    }\n",
              "\n",
              "    [theme=dark] .colab-df-convert {\n",
              "      background-color: #3B4455;\n",
              "      fill: #D2E3FC;\n",
              "    }\n",
              "\n",
              "    [theme=dark] .colab-df-convert:hover {\n",
              "      background-color: #434B5C;\n",
              "      box-shadow: 0px 1px 3px 1px rgba(0, 0, 0, 0.15);\n",
              "      filter: drop-shadow(0px 1px 2px rgba(0, 0, 0, 0.3));\n",
              "      fill: #FFFFFF;\n",
              "    }\n",
              "  </style>\n",
              "\n",
              "    <script>\n",
              "      const buttonEl =\n",
              "        document.querySelector('#df-091d693e-a864-4228-a048-6c6fcdd05f4c button.colab-df-convert');\n",
              "      buttonEl.style.display =\n",
              "        google.colab.kernel.accessAllowed ? 'block' : 'none';\n",
              "\n",
              "      async function convertToInteractive(key) {\n",
              "        const element = document.querySelector('#df-091d693e-a864-4228-a048-6c6fcdd05f4c');\n",
              "        const dataTable =\n",
              "          await google.colab.kernel.invokeFunction('convertToInteractive',\n",
              "                                                    [key], {});\n",
              "        if (!dataTable) return;\n",
              "\n",
              "        const docLinkHtml = 'Like what you see? Visit the ' +\n",
              "          '<a target=\"_blank\" href=https://colab.research.google.com/notebooks/data_table.ipynb>data table notebook</a>'\n",
              "          + ' to learn more about interactive tables.';\n",
              "        element.innerHTML = '';\n",
              "        dataTable['output_type'] = 'display_data';\n",
              "        await google.colab.output.renderOutput(dataTable, element);\n",
              "        const docLink = document.createElement('div');\n",
              "        docLink.innerHTML = docLinkHtml;\n",
              "        element.appendChild(docLink);\n",
              "      }\n",
              "    </script>\n",
              "  </div>\n",
              "\n",
              "\n",
              "<div id=\"df-726034dd-518f-4d6e-8dc5-82fbdccf293e\">\n",
              "  <button class=\"colab-df-quickchart\" onclick=\"quickchart('df-726034dd-518f-4d6e-8dc5-82fbdccf293e')\"\n",
              "            title=\"Suggest charts\"\n",
              "            style=\"display:none;\">\n",
              "\n",
              "<svg xmlns=\"http://www.w3.org/2000/svg\" height=\"24px\"viewBox=\"0 0 24 24\"\n",
              "     width=\"24px\">\n",
              "    <g>\n",
              "        <path d=\"M19 3H5c-1.1 0-2 .9-2 2v14c0 1.1.9 2 2 2h14c1.1 0 2-.9 2-2V5c0-1.1-.9-2-2-2zM9 17H7v-7h2v7zm4 0h-2V7h2v10zm4 0h-2v-4h2v4z\"/>\n",
              "    </g>\n",
              "</svg>\n",
              "  </button>\n",
              "\n",
              "<style>\n",
              "  .colab-df-quickchart {\n",
              "      --bg-color: #E8F0FE;\n",
              "      --fill-color: #1967D2;\n",
              "      --hover-bg-color: #E2EBFA;\n",
              "      --hover-fill-color: #174EA6;\n",
              "      --disabled-fill-color: #AAA;\n",
              "      --disabled-bg-color: #DDD;\n",
              "  }\n",
              "\n",
              "  [theme=dark] .colab-df-quickchart {\n",
              "      --bg-color: #3B4455;\n",
              "      --fill-color: #D2E3FC;\n",
              "      --hover-bg-color: #434B5C;\n",
              "      --hover-fill-color: #FFFFFF;\n",
              "      --disabled-bg-color: #3B4455;\n",
              "      --disabled-fill-color: #666;\n",
              "  }\n",
              "\n",
              "  .colab-df-quickchart {\n",
              "    background-color: var(--bg-color);\n",
              "    border: none;\n",
              "    border-radius: 50%;\n",
              "    cursor: pointer;\n",
              "    display: none;\n",
              "    fill: var(--fill-color);\n",
              "    height: 32px;\n",
              "    padding: 0;\n",
              "    width: 32px;\n",
              "  }\n",
              "\n",
              "  .colab-df-quickchart:hover {\n",
              "    background-color: var(--hover-bg-color);\n",
              "    box-shadow: 0 1px 2px rgba(60, 64, 67, 0.3), 0 1px 3px 1px rgba(60, 64, 67, 0.15);\n",
              "    fill: var(--button-hover-fill-color);\n",
              "  }\n",
              "\n",
              "  .colab-df-quickchart-complete:disabled,\n",
              "  .colab-df-quickchart-complete:disabled:hover {\n",
              "    background-color: var(--disabled-bg-color);\n",
              "    fill: var(--disabled-fill-color);\n",
              "    box-shadow: none;\n",
              "  }\n",
              "\n",
              "  .colab-df-spinner {\n",
              "    border: 2px solid var(--fill-color);\n",
              "    border-color: transparent;\n",
              "    border-bottom-color: var(--fill-color);\n",
              "    animation:\n",
              "      spin 1s steps(1) infinite;\n",
              "  }\n",
              "\n",
              "  @keyframes spin {\n",
              "    0% {\n",
              "      border-color: transparent;\n",
              "      border-bottom-color: var(--fill-color);\n",
              "      border-left-color: var(--fill-color);\n",
              "    }\n",
              "    20% {\n",
              "      border-color: transparent;\n",
              "      border-left-color: var(--fill-color);\n",
              "      border-top-color: var(--fill-color);\n",
              "    }\n",
              "    30% {\n",
              "      border-color: transparent;\n",
              "      border-left-color: var(--fill-color);\n",
              "      border-top-color: var(--fill-color);\n",
              "      border-right-color: var(--fill-color);\n",
              "    }\n",
              "    40% {\n",
              "      border-color: transparent;\n",
              "      border-right-color: var(--fill-color);\n",
              "      border-top-color: var(--fill-color);\n",
              "    }\n",
              "    60% {\n",
              "      border-color: transparent;\n",
              "      border-right-color: var(--fill-color);\n",
              "    }\n",
              "    80% {\n",
              "      border-color: transparent;\n",
              "      border-right-color: var(--fill-color);\n",
              "      border-bottom-color: var(--fill-color);\n",
              "    }\n",
              "    90% {\n",
              "      border-color: transparent;\n",
              "      border-bottom-color: var(--fill-color);\n",
              "    }\n",
              "  }\n",
              "</style>\n",
              "\n",
              "  <script>\n",
              "    async function quickchart(key) {\n",
              "      const quickchartButtonEl =\n",
              "        document.querySelector('#' + key + ' button');\n",
              "      quickchartButtonEl.disabled = true;  // To prevent multiple clicks.\n",
              "      quickchartButtonEl.classList.add('colab-df-spinner');\n",
              "      try {\n",
              "        const charts = await google.colab.kernel.invokeFunction(\n",
              "            'suggestCharts', [key], {});\n",
              "      } catch (error) {\n",
              "        console.error('Error during call to suggestCharts:', error);\n",
              "      }\n",
              "      quickchartButtonEl.classList.remove('colab-df-spinner');\n",
              "      quickchartButtonEl.classList.add('colab-df-quickchart-complete');\n",
              "    }\n",
              "    (() => {\n",
              "      let quickchartButtonEl =\n",
              "        document.querySelector('#df-726034dd-518f-4d6e-8dc5-82fbdccf293e button');\n",
              "      quickchartButtonEl.style.display =\n",
              "        google.colab.kernel.accessAllowed ? 'block' : 'none';\n",
              "    })();\n",
              "  </script>\n",
              "</div>\n",
              "\n",
              "  <div id=\"id_765a6311-10fb-46ad-a679-d0f95d62080c\">\n",
              "    <style>\n",
              "      .colab-df-generate {\n",
              "        background-color: #E8F0FE;\n",
              "        border: none;\n",
              "        border-radius: 50%;\n",
              "        cursor: pointer;\n",
              "        display: none;\n",
              "        fill: #1967D2;\n",
              "        height: 32px;\n",
              "        padding: 0 0 0 0;\n",
              "        width: 32px;\n",
              "      }\n",
              "\n",
              "      .colab-df-generate:hover {\n",
              "        background-color: #E2EBFA;\n",
              "        box-shadow: 0px 1px 2px rgba(60, 64, 67, 0.3), 0px 1px 3px 1px rgba(60, 64, 67, 0.15);\n",
              "        fill: #174EA6;\n",
              "      }\n",
              "\n",
              "      [theme=dark] .colab-df-generate {\n",
              "        background-color: #3B4455;\n",
              "        fill: #D2E3FC;\n",
              "      }\n",
              "\n",
              "      [theme=dark] .colab-df-generate:hover {\n",
              "        background-color: #434B5C;\n",
              "        box-shadow: 0px 1px 3px 1px rgba(0, 0, 0, 0.15);\n",
              "        filter: drop-shadow(0px 1px 2px rgba(0, 0, 0, 0.3));\n",
              "        fill: #FFFFFF;\n",
              "      }\n",
              "    </style>\n",
              "    <button class=\"colab-df-generate\" onclick=\"generateWithVariable('genres_with_one_song')\"\n",
              "            title=\"Generate code using this dataframe.\"\n",
              "            style=\"display:none;\">\n",
              "\n",
              "  <svg xmlns=\"http://www.w3.org/2000/svg\" height=\"24px\"viewBox=\"0 0 24 24\"\n",
              "       width=\"24px\">\n",
              "    <path d=\"M7,19H8.4L18.45,9,17,7.55,7,17.6ZM5,21V16.75L18.45,3.32a2,2,0,0,1,2.83,0l1.4,1.43a1.91,1.91,0,0,1,.58,1.4,1.91,1.91,0,0,1-.58,1.4L9.25,21ZM18.45,9,17,7.55Zm-12,3A5.31,5.31,0,0,0,4.9,8.1,5.31,5.31,0,0,0,1,6.5,5.31,5.31,0,0,0,4.9,4.9,5.31,5.31,0,0,0,6.5,1,5.31,5.31,0,0,0,8.1,4.9,5.31,5.31,0,0,0,12,6.5,5.46,5.46,0,0,0,6.5,12Z\"/>\n",
              "  </svg>\n",
              "    </button>\n",
              "    <script>\n",
              "      (() => {\n",
              "      const buttonEl =\n",
              "        document.querySelector('#id_765a6311-10fb-46ad-a679-d0f95d62080c button.colab-df-generate');\n",
              "      buttonEl.style.display =\n",
              "        google.colab.kernel.accessAllowed ? 'block' : 'none';\n",
              "\n",
              "      buttonEl.onclick = () => {\n",
              "        google.colab.notebook.generateWithVariable('genres_with_one_song');\n",
              "      }\n",
              "      })();\n",
              "    </script>\n",
              "  </div>\n",
              "\n",
              "    </div>\n",
              "  </div>\n"
            ],
            "application/vnd.google.colaboratory.intrinsic+json": {
              "type": "dataframe",
              "variable_name": "genres_with_one_song",
              "summary": "{\n  \"name\": \"genres_with_one_song\",\n  \"rows\": 10,\n  \"fields\": [\n    {\n      \"column\": \"genre\",\n      \"properties\": {\n        \"dtype\": \"string\",\n        \"num_unique_values\": 10,\n        \"samples\": [\n          \"Alternative/reggaeton/experimental\",\n          \"R&B/Hip-Hop alternative\",\n          \"Dance-pop/Disco\"\n        ],\n        \"semantic_type\": \"\",\n        \"description\": \"\"\n      }\n    }\n  ]\n}"
            }
          },
          "metadata": {},
          "execution_count": 12
        }
      ]
    },
    {
      "cell_type": "markdown",
      "source": [
        "2.18 How many genres in total are represented in the top 50?"
      ],
      "metadata": {
        "id": "QBnFuBfO6taA"
      }
    },
    {
      "cell_type": "code",
      "source": [
        "total_genres = df['genre'].nunique()\n",
        "print(f\"Total genres represented in the top 50: {total_genres}\")"
      ],
      "metadata": {
        "colab": {
          "base_uri": "https://localhost:8080/"
        },
        "id": "C_vf75HQGnA-",
        "outputId": "31f0a898-0691-4ed7-c391-fe13c76be45a"
      },
      "execution_count": null,
      "outputs": [
        {
          "output_type": "stream",
          "name": "stdout",
          "text": [
            "Total genres represented in the top 50: 16\n"
          ]
        }
      ]
    },
    {
      "cell_type": "markdown",
      "source": [
        "2.19 Which features are strongly positively correlated?"
      ],
      "metadata": {
        "id": "42_FUHo66wT-"
      }
    },
    {
      "cell_type": "code",
      "source": [
        "correlation_matrix = df[numerical_columns].corr()\n",
        "strong_positive_corr = correlation_matrix[correlation_matrix > 0.7].stack().reset_index()\n",
        "strong_positive_corr = strong_positive_corr[strong_positive_corr[0] != 1]  # Exclude self-correlation\n",
        "print(\"Strongly positively correlated features:\")\n",
        "print(strong_positive_corr)"
      ],
      "metadata": {
        "colab": {
          "base_uri": "https://localhost:8080/"
        },
        "id": "vF2ZUtJOGnDh",
        "outputId": "0c6bdcfa-1f92-4635-b50a-45e5d2edd9ca"
      },
      "execution_count": 15,
      "outputs": [
        {
          "output_type": "stream",
          "name": "stdout",
          "text": [
            "Strongly positively correlated features:\n",
            "    level_0   level_1        0\n",
            "1    energy  loudness  0.79164\n",
            "4  loudness    energy  0.79164\n"
          ]
        }
      ]
    },
    {
      "cell_type": "markdown",
      "source": [
        "2.20 Which features are strongly negatively correlated?"
      ],
      "metadata": {
        "id": "z53ZD8ZL6y_U"
      }
    },
    {
      "cell_type": "code",
      "source": [
        "strong_negative_corr = correlation_matrix[correlation_matrix < -0.6].stack().reset_index()\n",
        "print(\"Strongly negatively correlated features:\")\n",
        "print(strong_negative_corr)"
      ],
      "metadata": {
        "colab": {
          "base_uri": "https://localhost:8080/"
        },
        "id": "h2nIq1ZgKug5",
        "outputId": "89f00ac8-4df9-49ca-ccfb-095106c1061b"
      },
      "execution_count": 17,
      "outputs": [
        {
          "output_type": "stream",
          "name": "stdout",
          "text": [
            "Strongly negatively correlated features:\n",
            "        level_0       level_1         0\n",
            "0        energy  acousticness -0.682479\n",
            "1  acousticness        energy -0.682479\n"
          ]
        }
      ]
    },
    {
      "cell_type": "markdown",
      "source": [
        "2.21 Which features are not correlated?\n"
      ],
      "metadata": {
        "id": "wr3c_cbI61Ps"
      }
    },
    {
      "cell_type": "code",
      "source": [
        "weak_corr = correlation_matrix[(correlation_matrix > -0.3) & (correlation_matrix < 0.3)].stack().reset_index()\n",
        "weak_corr = weak_corr[weak_corr[0] != 1]  # Exclude self-correlation\n",
        "print(\"Features with weak or no correlation:\")\n",
        "weak_corr"
      ],
      "metadata": {
        "colab": {
          "base_uri": "https://localhost:8080/",
          "height": 442
        },
        "id": "O7jwCzoPKukE",
        "outputId": "08a70259-f3e0-428d-fdbc-79c40bb001c5"
      },
      "execution_count": 18,
      "outputs": [
        {
          "output_type": "stream",
          "name": "stdout",
          "text": [
            "Features with weak or no correlation:\n"
          ]
        },
        {
          "output_type": "execute_result",
          "data": {
            "text/plain": [
              "        level_0           level_1         0\n",
              "0        energy      danceability  0.152552\n",
              "1        energy               key  0.062428\n",
              "2        energy       speechiness  0.074267\n",
              "3        energy          liveness  0.069487\n",
              "4        energy             tempo  0.075191\n",
              "..          ...               ...       ...\n",
              "83  duration_ms      acousticness -0.010988\n",
              "84  duration_ms  instrumentalness  0.184709\n",
              "85  duration_ms          liveness -0.090188\n",
              "86  duration_ms           valence -0.039794\n",
              "87  duration_ms             tempo  0.130328\n",
              "\n",
              "[88 rows x 3 columns]"
            ],
            "text/html": [
              "\n",
              "  <div id=\"df-3a7e2992-0bf1-43fc-bb26-ad4f74e91c98\" class=\"colab-df-container\">\n",
              "    <div>\n",
              "<style scoped>\n",
              "    .dataframe tbody tr th:only-of-type {\n",
              "        vertical-align: middle;\n",
              "    }\n",
              "\n",
              "    .dataframe tbody tr th {\n",
              "        vertical-align: top;\n",
              "    }\n",
              "\n",
              "    .dataframe thead th {\n",
              "        text-align: right;\n",
              "    }\n",
              "</style>\n",
              "<table border=\"1\" class=\"dataframe\">\n",
              "  <thead>\n",
              "    <tr style=\"text-align: right;\">\n",
              "      <th></th>\n",
              "      <th>level_0</th>\n",
              "      <th>level_1</th>\n",
              "      <th>0</th>\n",
              "    </tr>\n",
              "  </thead>\n",
              "  <tbody>\n",
              "    <tr>\n",
              "      <th>0</th>\n",
              "      <td>energy</td>\n",
              "      <td>danceability</td>\n",
              "      <td>0.152552</td>\n",
              "    </tr>\n",
              "    <tr>\n",
              "      <th>1</th>\n",
              "      <td>energy</td>\n",
              "      <td>key</td>\n",
              "      <td>0.062428</td>\n",
              "    </tr>\n",
              "    <tr>\n",
              "      <th>2</th>\n",
              "      <td>energy</td>\n",
              "      <td>speechiness</td>\n",
              "      <td>0.074267</td>\n",
              "    </tr>\n",
              "    <tr>\n",
              "      <th>3</th>\n",
              "      <td>energy</td>\n",
              "      <td>liveness</td>\n",
              "      <td>0.069487</td>\n",
              "    </tr>\n",
              "    <tr>\n",
              "      <th>4</th>\n",
              "      <td>energy</td>\n",
              "      <td>tempo</td>\n",
              "      <td>0.075191</td>\n",
              "    </tr>\n",
              "    <tr>\n",
              "      <th>...</th>\n",
              "      <td>...</td>\n",
              "      <td>...</td>\n",
              "      <td>...</td>\n",
              "    </tr>\n",
              "    <tr>\n",
              "      <th>83</th>\n",
              "      <td>duration_ms</td>\n",
              "      <td>acousticness</td>\n",
              "      <td>-0.010988</td>\n",
              "    </tr>\n",
              "    <tr>\n",
              "      <th>84</th>\n",
              "      <td>duration_ms</td>\n",
              "      <td>instrumentalness</td>\n",
              "      <td>0.184709</td>\n",
              "    </tr>\n",
              "    <tr>\n",
              "      <th>85</th>\n",
              "      <td>duration_ms</td>\n",
              "      <td>liveness</td>\n",
              "      <td>-0.090188</td>\n",
              "    </tr>\n",
              "    <tr>\n",
              "      <th>86</th>\n",
              "      <td>duration_ms</td>\n",
              "      <td>valence</td>\n",
              "      <td>-0.039794</td>\n",
              "    </tr>\n",
              "    <tr>\n",
              "      <th>87</th>\n",
              "      <td>duration_ms</td>\n",
              "      <td>tempo</td>\n",
              "      <td>0.130328</td>\n",
              "    </tr>\n",
              "  </tbody>\n",
              "</table>\n",
              "<p>88 rows × 3 columns</p>\n",
              "</div>\n",
              "    <div class=\"colab-df-buttons\">\n",
              "\n",
              "  <div class=\"colab-df-container\">\n",
              "    <button class=\"colab-df-convert\" onclick=\"convertToInteractive('df-3a7e2992-0bf1-43fc-bb26-ad4f74e91c98')\"\n",
              "            title=\"Convert this dataframe to an interactive table.\"\n",
              "            style=\"display:none;\">\n",
              "\n",
              "  <svg xmlns=\"http://www.w3.org/2000/svg\" height=\"24px\" viewBox=\"0 -960 960 960\">\n",
              "    <path d=\"M120-120v-720h720v720H120Zm60-500h600v-160H180v160Zm220 220h160v-160H400v160Zm0 220h160v-160H400v160ZM180-400h160v-160H180v160Zm440 0h160v-160H620v160ZM180-180h160v-160H180v160Zm440 0h160v-160H620v160Z\"/>\n",
              "  </svg>\n",
              "    </button>\n",
              "\n",
              "  <style>\n",
              "    .colab-df-container {\n",
              "      display:flex;\n",
              "      gap: 12px;\n",
              "    }\n",
              "\n",
              "    .colab-df-convert {\n",
              "      background-color: #E8F0FE;\n",
              "      border: none;\n",
              "      border-radius: 50%;\n",
              "      cursor: pointer;\n",
              "      display: none;\n",
              "      fill: #1967D2;\n",
              "      height: 32px;\n",
              "      padding: 0 0 0 0;\n",
              "      width: 32px;\n",
              "    }\n",
              "\n",
              "    .colab-df-convert:hover {\n",
              "      background-color: #E2EBFA;\n",
              "      box-shadow: 0px 1px 2px rgba(60, 64, 67, 0.3), 0px 1px 3px 1px rgba(60, 64, 67, 0.15);\n",
              "      fill: #174EA6;\n",
              "    }\n",
              "\n",
              "    .colab-df-buttons div {\n",
              "      margin-bottom: 4px;\n",
              "    }\n",
              "\n",
              "    [theme=dark] .colab-df-convert {\n",
              "      background-color: #3B4455;\n",
              "      fill: #D2E3FC;\n",
              "    }\n",
              "\n",
              "    [theme=dark] .colab-df-convert:hover {\n",
              "      background-color: #434B5C;\n",
              "      box-shadow: 0px 1px 3px 1px rgba(0, 0, 0, 0.15);\n",
              "      filter: drop-shadow(0px 1px 2px rgba(0, 0, 0, 0.3));\n",
              "      fill: #FFFFFF;\n",
              "    }\n",
              "  </style>\n",
              "\n",
              "    <script>\n",
              "      const buttonEl =\n",
              "        document.querySelector('#df-3a7e2992-0bf1-43fc-bb26-ad4f74e91c98 button.colab-df-convert');\n",
              "      buttonEl.style.display =\n",
              "        google.colab.kernel.accessAllowed ? 'block' : 'none';\n",
              "\n",
              "      async function convertToInteractive(key) {\n",
              "        const element = document.querySelector('#df-3a7e2992-0bf1-43fc-bb26-ad4f74e91c98');\n",
              "        const dataTable =\n",
              "          await google.colab.kernel.invokeFunction('convertToInteractive',\n",
              "                                                    [key], {});\n",
              "        if (!dataTable) return;\n",
              "\n",
              "        const docLinkHtml = 'Like what you see? Visit the ' +\n",
              "          '<a target=\"_blank\" href=https://colab.research.google.com/notebooks/data_table.ipynb>data table notebook</a>'\n",
              "          + ' to learn more about interactive tables.';\n",
              "        element.innerHTML = '';\n",
              "        dataTable['output_type'] = 'display_data';\n",
              "        await google.colab.output.renderOutput(dataTable, element);\n",
              "        const docLink = document.createElement('div');\n",
              "        docLink.innerHTML = docLinkHtml;\n",
              "        element.appendChild(docLink);\n",
              "      }\n",
              "    </script>\n",
              "  </div>\n",
              "\n",
              "\n",
              "<div id=\"df-88e2880c-7138-41e7-b088-f6127e181e53\">\n",
              "  <button class=\"colab-df-quickchart\" onclick=\"quickchart('df-88e2880c-7138-41e7-b088-f6127e181e53')\"\n",
              "            title=\"Suggest charts\"\n",
              "            style=\"display:none;\">\n",
              "\n",
              "<svg xmlns=\"http://www.w3.org/2000/svg\" height=\"24px\"viewBox=\"0 0 24 24\"\n",
              "     width=\"24px\">\n",
              "    <g>\n",
              "        <path d=\"M19 3H5c-1.1 0-2 .9-2 2v14c0 1.1.9 2 2 2h14c1.1 0 2-.9 2-2V5c0-1.1-.9-2-2-2zM9 17H7v-7h2v7zm4 0h-2V7h2v10zm4 0h-2v-4h2v4z\"/>\n",
              "    </g>\n",
              "</svg>\n",
              "  </button>\n",
              "\n",
              "<style>\n",
              "  .colab-df-quickchart {\n",
              "      --bg-color: #E8F0FE;\n",
              "      --fill-color: #1967D2;\n",
              "      --hover-bg-color: #E2EBFA;\n",
              "      --hover-fill-color: #174EA6;\n",
              "      --disabled-fill-color: #AAA;\n",
              "      --disabled-bg-color: #DDD;\n",
              "  }\n",
              "\n",
              "  [theme=dark] .colab-df-quickchart {\n",
              "      --bg-color: #3B4455;\n",
              "      --fill-color: #D2E3FC;\n",
              "      --hover-bg-color: #434B5C;\n",
              "      --hover-fill-color: #FFFFFF;\n",
              "      --disabled-bg-color: #3B4455;\n",
              "      --disabled-fill-color: #666;\n",
              "  }\n",
              "\n",
              "  .colab-df-quickchart {\n",
              "    background-color: var(--bg-color);\n",
              "    border: none;\n",
              "    border-radius: 50%;\n",
              "    cursor: pointer;\n",
              "    display: none;\n",
              "    fill: var(--fill-color);\n",
              "    height: 32px;\n",
              "    padding: 0;\n",
              "    width: 32px;\n",
              "  }\n",
              "\n",
              "  .colab-df-quickchart:hover {\n",
              "    background-color: var(--hover-bg-color);\n",
              "    box-shadow: 0 1px 2px rgba(60, 64, 67, 0.3), 0 1px 3px 1px rgba(60, 64, 67, 0.15);\n",
              "    fill: var(--button-hover-fill-color);\n",
              "  }\n",
              "\n",
              "  .colab-df-quickchart-complete:disabled,\n",
              "  .colab-df-quickchart-complete:disabled:hover {\n",
              "    background-color: var(--disabled-bg-color);\n",
              "    fill: var(--disabled-fill-color);\n",
              "    box-shadow: none;\n",
              "  }\n",
              "\n",
              "  .colab-df-spinner {\n",
              "    border: 2px solid var(--fill-color);\n",
              "    border-color: transparent;\n",
              "    border-bottom-color: var(--fill-color);\n",
              "    animation:\n",
              "      spin 1s steps(1) infinite;\n",
              "  }\n",
              "\n",
              "  @keyframes spin {\n",
              "    0% {\n",
              "      border-color: transparent;\n",
              "      border-bottom-color: var(--fill-color);\n",
              "      border-left-color: var(--fill-color);\n",
              "    }\n",
              "    20% {\n",
              "      border-color: transparent;\n",
              "      border-left-color: var(--fill-color);\n",
              "      border-top-color: var(--fill-color);\n",
              "    }\n",
              "    30% {\n",
              "      border-color: transparent;\n",
              "      border-left-color: var(--fill-color);\n",
              "      border-top-color: var(--fill-color);\n",
              "      border-right-color: var(--fill-color);\n",
              "    }\n",
              "    40% {\n",
              "      border-color: transparent;\n",
              "      border-right-color: var(--fill-color);\n",
              "      border-top-color: var(--fill-color);\n",
              "    }\n",
              "    60% {\n",
              "      border-color: transparent;\n",
              "      border-right-color: var(--fill-color);\n",
              "    }\n",
              "    80% {\n",
              "      border-color: transparent;\n",
              "      border-right-color: var(--fill-color);\n",
              "      border-bottom-color: var(--fill-color);\n",
              "    }\n",
              "    90% {\n",
              "      border-color: transparent;\n",
              "      border-bottom-color: var(--fill-color);\n",
              "    }\n",
              "  }\n",
              "</style>\n",
              "\n",
              "  <script>\n",
              "    async function quickchart(key) {\n",
              "      const quickchartButtonEl =\n",
              "        document.querySelector('#' + key + ' button');\n",
              "      quickchartButtonEl.disabled = true;  // To prevent multiple clicks.\n",
              "      quickchartButtonEl.classList.add('colab-df-spinner');\n",
              "      try {\n",
              "        const charts = await google.colab.kernel.invokeFunction(\n",
              "            'suggestCharts', [key], {});\n",
              "      } catch (error) {\n",
              "        console.error('Error during call to suggestCharts:', error);\n",
              "      }\n",
              "      quickchartButtonEl.classList.remove('colab-df-spinner');\n",
              "      quickchartButtonEl.classList.add('colab-df-quickchart-complete');\n",
              "    }\n",
              "    (() => {\n",
              "      let quickchartButtonEl =\n",
              "        document.querySelector('#df-88e2880c-7138-41e7-b088-f6127e181e53 button');\n",
              "      quickchartButtonEl.style.display =\n",
              "        google.colab.kernel.accessAllowed ? 'block' : 'none';\n",
              "    })();\n",
              "  </script>\n",
              "</div>\n",
              "\n",
              "  <div id=\"id_3d4798a1-119f-4757-b75c-98ef3f076442\">\n",
              "    <style>\n",
              "      .colab-df-generate {\n",
              "        background-color: #E8F0FE;\n",
              "        border: none;\n",
              "        border-radius: 50%;\n",
              "        cursor: pointer;\n",
              "        display: none;\n",
              "        fill: #1967D2;\n",
              "        height: 32px;\n",
              "        padding: 0 0 0 0;\n",
              "        width: 32px;\n",
              "      }\n",
              "\n",
              "      .colab-df-generate:hover {\n",
              "        background-color: #E2EBFA;\n",
              "        box-shadow: 0px 1px 2px rgba(60, 64, 67, 0.3), 0px 1px 3px 1px rgba(60, 64, 67, 0.15);\n",
              "        fill: #174EA6;\n",
              "      }\n",
              "\n",
              "      [theme=dark] .colab-df-generate {\n",
              "        background-color: #3B4455;\n",
              "        fill: #D2E3FC;\n",
              "      }\n",
              "\n",
              "      [theme=dark] .colab-df-generate:hover {\n",
              "        background-color: #434B5C;\n",
              "        box-shadow: 0px 1px 3px 1px rgba(0, 0, 0, 0.15);\n",
              "        filter: drop-shadow(0px 1px 2px rgba(0, 0, 0, 0.3));\n",
              "        fill: #FFFFFF;\n",
              "      }\n",
              "    </style>\n",
              "    <button class=\"colab-df-generate\" onclick=\"generateWithVariable('weak_corr')\"\n",
              "            title=\"Generate code using this dataframe.\"\n",
              "            style=\"display:none;\">\n",
              "\n",
              "  <svg xmlns=\"http://www.w3.org/2000/svg\" height=\"24px\"viewBox=\"0 0 24 24\"\n",
              "       width=\"24px\">\n",
              "    <path d=\"M7,19H8.4L18.45,9,17,7.55,7,17.6ZM5,21V16.75L18.45,3.32a2,2,0,0,1,2.83,0l1.4,1.43a1.91,1.91,0,0,1,.58,1.4,1.91,1.91,0,0,1-.58,1.4L9.25,21ZM18.45,9,17,7.55Zm-12,3A5.31,5.31,0,0,0,4.9,8.1,5.31,5.31,0,0,0,1,6.5,5.31,5.31,0,0,0,4.9,4.9,5.31,5.31,0,0,0,6.5,1,5.31,5.31,0,0,0,8.1,4.9,5.31,5.31,0,0,0,12,6.5,5.46,5.46,0,0,0,6.5,12Z\"/>\n",
              "  </svg>\n",
              "    </button>\n",
              "    <script>\n",
              "      (() => {\n",
              "      const buttonEl =\n",
              "        document.querySelector('#id_3d4798a1-119f-4757-b75c-98ef3f076442 button.colab-df-generate');\n",
              "      buttonEl.style.display =\n",
              "        google.colab.kernel.accessAllowed ? 'block' : 'none';\n",
              "\n",
              "      buttonEl.onclick = () => {\n",
              "        google.colab.notebook.generateWithVariable('weak_corr');\n",
              "      }\n",
              "      })();\n",
              "    </script>\n",
              "  </div>\n",
              "\n",
              "    </div>\n",
              "  </div>\n"
            ],
            "application/vnd.google.colaboratory.intrinsic+json": {
              "type": "dataframe",
              "variable_name": "weak_corr",
              "summary": "{\n  \"name\": \"weak_corr\",\n  \"rows\": 88,\n  \"fields\": [\n    {\n      \"column\": \"level_0\",\n      \"properties\": {\n        \"dtype\": \"category\",\n        \"num_unique_values\": 11,\n        \"samples\": [\n          \"speechiness\",\n          \"energy\",\n          \"tempo\"\n        ],\n        \"semantic_type\": \"\",\n        \"description\": \"\"\n      }\n    },\n    {\n      \"column\": \"level_1\",\n      \"properties\": {\n        \"dtype\": \"category\",\n        \"num_unique_values\": 11,\n        \"samples\": [\n          \"duration_ms\",\n          \"danceability\",\n          \"acousticness\"\n        ],\n        \"semantic_type\": \"\",\n        \"description\": \"\"\n      }\n    },\n    {\n      \"column\": 0,\n      \"properties\": {\n        \"dtype\": \"number\",\n        \"std\": 0.12638261602398013,\n        \"min\": -0.24319225768729424,\n        \"max\": 0.28503633104389425,\n        \"num_unique_values\": 44,\n        \"samples\": [\n          0.18470865100256503,\n          0.06413020411872389,\n          -0.13539214333859012\n        ],\n        \"semantic_type\": \"\",\n        \"description\": \"\"\n      }\n    }\n  ]\n}"
            }
          },
          "metadata": {},
          "execution_count": 18
        }
      ]
    },
    {
      "cell_type": "markdown",
      "source": [
        "Correlation Matrix as Heatmap"
      ],
      "metadata": {
        "id": "51XYiHK965mq"
      }
    },
    {
      "cell_type": "code",
      "source": [
        "plt.figure(figsize=(10, 8))\n",
        "sns.heatmap(correlation_matrix, annot=True, cmap='coolwarm', fmt=\".2f\")\n",
        "plt.title(\"Correlation Heatmap\")\n",
        "plt.show()"
      ],
      "metadata": {
        "colab": {
          "base_uri": "https://localhost:8080/",
          "height": 805
        },
        "id": "y3jO-IsrKuno",
        "outputId": "7b8ffba7-27fe-4638-e7c0-38e74845e15c"
      },
      "execution_count": null,
      "outputs": [
        {
          "output_type": "display_data",
          "data": {
            "text/plain": [
              "<Figure size 1000x800 with 2 Axes>"
            ],
            "image/png": "[encoded data removed]"
          },
          "metadata": {}
        }
      ]
    },
    {
      "cell_type": "markdown",
      "source": [
        "3. How does the danceability score compare between Pop, Hip-Hop/Rap, Dance/Electronic, and Alternative/Indie genres?"
      ],
      "metadata": {
        "id": "BS9CSO5V6-hU"
      }
    },
    {
      "cell_type": "code",
      "source": [
        "genres_of_interest = ['Pop', 'Hip-Hop/Rap', 'Dance/Electronic', 'Alternative/Indie']\n",
        "filtered_df = df[df['genre'].isin(genres_of_interest)]\n",
        "filtered_df.head()"
      ],
      "metadata": {
        "colab": {
          "base_uri": "https://localhost:8080/",
          "height": 399
        },
        "id": "aA61fI2yMgOM",
        "outputId": "66ce13c6-6268-49ca-b6a5-6c28058e4e95"
      },
      "execution_count": 19,
      "outputs": [
        {
          "output_type": "execute_result",
          "data": {
            "text/plain": [
              "         artist                                  album  \\\n",
              "1   Tones And I                           Dance Monkey   \n",
              "2   Roddy Ricch  Please Excuse Me For Being Antisocial   \n",
              "3     SAINt JHN                  Roses (Imanbek Remix)   \n",
              "5        DaBaby                       BLAME IT ON BABY   \n",
              "6  Harry Styles                              Fine Line   \n",
              "\n",
              "                     track_name                track_id  energy  danceability  \\\n",
              "1                  Dance Monkey  1rgnBhdG2JDFTbYkYRZAku   0.593         0.825   \n",
              "2                       The Box  0nbXyq5TXYPCO7pr3N8S4I   0.586         0.896   \n",
              "3         Roses - Imanbek Remix  2Wo6QQD1KMDWeFkkjLqwx5   0.721         0.785   \n",
              "5  ROCKSTAR (feat. Roddy Ricch)  7ytR5pFWmSjzHJIeQkgog4   0.690         0.746   \n",
              "6              Watermelon Sugar  6UelLqGlWMcVH1E5c4H7lY   0.816         0.548   \n",
              "\n",
              "   key  loudness  acousticness  speechiness  instrumentalness  liveness  \\\n",
              "1    6    -6.401        0.6880       0.0988          0.000161     0.170   \n",
              "2   10    -6.687        0.1040       0.0559          0.000000     0.790   \n",
              "3    8    -5.457        0.0149       0.0506          0.004320     0.285   \n",
              "5   11    -7.956        0.2470       0.1640          0.000000     0.101   \n",
              "6    0    -4.209        0.1220       0.0465          0.000000     0.335   \n",
              "\n",
              "   valence    tempo  duration_ms              genre  \n",
              "1    0.540   98.078       209755  Alternative/Indie  \n",
              "2    0.642  116.971       196653        Hip-Hop/Rap  \n",
              "3    0.894  121.962       176219   Dance/Electronic  \n",
              "5    0.497   89.977       181733        Hip-Hop/Rap  \n",
              "6    0.557   95.390       174000                Pop  "
            ],
            "text/html": [
              "\n",
              "  <div id=\"df-60953e6b-a45b-4b43-94db-a7839b24bc75\" class=\"colab-df-container\">\n",
              "    <div>\n",
              "<style scoped>\n",
              "    .dataframe tbody tr th:only-of-type {\n",
              "        vertical-align: middle;\n",
              "    }\n",
              "\n",
              "    .dataframe tbody tr th {\n",
              "        vertical-align: top;\n",
              "    }\n",
              "\n",
              "    .dataframe thead th {\n",
              "        text-align: right;\n",
              "    }\n",
              "</style>\n",
              "<table border=\"1\" class=\"dataframe\">\n",
              "  <thead>\n",
              "    <tr style=\"text-align: right;\">\n",
              "      <th></th>\n",
              "      <th>artist</th>\n",
              "      <th>album</th>\n",
              "      <th>track_name</th>\n",
              "      <th>track_id</th>\n",
              "      <th>energy</th>\n",
              "      <th>danceability</th>\n",
              "      <th>key</th>\n",
              "      <th>loudness</th>\n",
              "      <th>acousticness</th>\n",
              "      <th>speechiness</th>\n",
              "      <th>instrumentalness</th>\n",
              "      <th>liveness</th>\n",
              "      <th>valence</th>\n",
              "      <th>tempo</th>\n",
              "      <th>duration_ms</th>\n",
              "      <th>genre</th>\n",
              "    </tr>\n",
              "  </thead>\n",
              "  <tbody>\n",
              "    <tr>\n",
              "      <th>1</th>\n",
              "      <td>Tones And I</td>\n",
              "      <td>Dance Monkey</td>\n",
              "      <td>Dance Monkey</td>\n",
              "      <td>1rgnBhdG2JDFTbYkYRZAku</td>\n",
              "      <td>0.593</td>\n",
              "      <td>0.825</td>\n",
              "      <td>6</td>\n",
              "      <td>-6.401</td>\n",
              "      <td>0.6880</td>\n",
              "      <td>0.0988</td>\n",
              "      <td>0.000161</td>\n",
              "      <td>0.170</td>\n",
              "      <td>0.540</td>\n",
              "      <td>98.078</td>\n",
              "      <td>209755</td>\n",
              "      <td>Alternative/Indie</td>\n",
              "    </tr>\n",
              "    <tr>\n",
              "      <th>2</th>\n",
              "      <td>Roddy Ricch</td>\n",
              "      <td>Please Excuse Me For Being Antisocial</td>\n",
              "      <td>The Box</td>\n",
              "      <td>0nbXyq5TXYPCO7pr3N8S4I</td>\n",
              "      <td>0.586</td>\n",
              "      <td>0.896</td>\n",
              "      <td>10</td>\n",
              "      <td>-6.687</td>\n",
              "      <td>0.1040</td>\n",
              "      <td>0.0559</td>\n",
              "      <td>0.000000</td>\n",
              "      <td>0.790</td>\n",
              "      <td>0.642</td>\n",
              "      <td>116.971</td>\n",
              "      <td>196653</td>\n",
              "      <td>Hip-Hop/Rap</td>\n",
              "    </tr>\n",
              "    <tr>\n",
              "      <th>3</th>\n",
              "      <td>SAINt JHN</td>\n",
              "      <td>Roses (Imanbek Remix)</td>\n",
              "      <td>Roses - Imanbek Remix</td>\n",
              "      <td>2Wo6QQD1KMDWeFkkjLqwx5</td>\n",
              "      <td>0.721</td>\n",
              "      <td>0.785</td>\n",
              "      <td>8</td>\n",
              "      <td>-5.457</td>\n",
              "      <td>0.0149</td>\n",
              "      <td>0.0506</td>\n",
              "      <td>0.004320</td>\n",
              "      <td>0.285</td>\n",
              "      <td>0.894</td>\n",
              "      <td>121.962</td>\n",
              "      <td>176219</td>\n",
              "      <td>Dance/Electronic</td>\n",
              "    </tr>\n",
              "    <tr>\n",
              "      <th>5</th>\n",
              "      <td>DaBaby</td>\n",
              "      <td>BLAME IT ON BABY</td>\n",
              "      <td>ROCKSTAR (feat. Roddy Ricch)</td>\n",
              "      <td>7ytR5pFWmSjzHJIeQkgog4</td>\n",
              "      <td>0.690</td>\n",
              "      <td>0.746</td>\n",
              "      <td>11</td>\n",
              "      <td>-7.956</td>\n",
              "      <td>0.2470</td>\n",
              "      <td>0.1640</td>\n",
              "      <td>0.000000</td>\n",
              "      <td>0.101</td>\n",
              "      <td>0.497</td>\n",
              "      <td>89.977</td>\n",
              "      <td>181733</td>\n",
              "      <td>Hip-Hop/Rap</td>\n",
              "    </tr>\n",
              "    <tr>\n",
              "      <th>6</th>\n",
              "      <td>Harry Styles</td>\n",
              "      <td>Fine Line</td>\n",
              "      <td>Watermelon Sugar</td>\n",
              "      <td>6UelLqGlWMcVH1E5c4H7lY</td>\n",
              "      <td>0.816</td>\n",
              "      <td>0.548</td>\n",
              "      <td>0</td>\n",
              "      <td>-4.209</td>\n",
              "      <td>0.1220</td>\n",
              "      <td>0.0465</td>\n",
              "      <td>0.000000</td>\n",
              "      <td>0.335</td>\n",
              "      <td>0.557</td>\n",
              "      <td>95.390</td>\n",
              "      <td>174000</td>\n",
              "      <td>Pop</td>\n",
              "    </tr>\n",
              "  </tbody>\n",
              "</table>\n",
              "</div>\n",
              "    <div class=\"colab-df-buttons\">\n",
              "\n",
              "  <div class=\"colab-df-container\">\n",
              "    <button class=\"colab-df-convert\" onclick=\"convertToInteractive('df-60953e6b-a45b-4b43-94db-a7839b24bc75')\"\n",
              "            title=\"Convert this dataframe to an interactive table.\"\n",
              "            style=\"display:none;\">\n",
              "\n",
              "  <svg xmlns=\"http://www.w3.org/2000/svg\" height=\"24px\" viewBox=\"0 -960 960 960\">\n",
              "    <path d=\"M120-120v-720h720v720H120Zm60-500h600v-160H180v160Zm220 220h160v-160H400v160Zm0 220h160v-160H400v160ZM180-400h160v-160H180v160Zm440 0h160v-160H620v160ZM180-180h160v-160H180v160Zm440 0h160v-160H620v160Z\"/>\n",
              "  </svg>\n",
              "    </button>\n",
              "\n",
              "  <style>\n",
              "    .colab-df-container {\n",
              "      display:flex;\n",
              "      gap: 12px;\n",
              "    }\n",
              "\n",
              "    .colab-df-convert {\n",
              "      background-color: #E8F0FE;\n",
              "      border: none;\n",
              "      border-radius: 50%;\n",
              "      cursor: pointer;\n",
              "      display: none;\n",
              "      fill: #1967D2;\n",
              "      height: 32px;\n",
              "      padding: 0 0 0 0;\n",
              "      width: 32px;\n",
              "    }\n",
              "\n",
              "    .colab-df-convert:hover {\n",
              "      background-color: #E2EBFA;\n",
              "      box-shadow: 0px 1px 2px rgba(60, 64, 67, 0.3), 0px 1px 3px 1px rgba(60, 64, 67, 0.15);\n",
              "      fill: #174EA6;\n",
              "    }\n",
              "\n",
              "    .colab-df-buttons div {\n",
              "      margin-bottom: 4px;\n",
              "    }\n",
              "\n",
              "    [theme=dark] .colab-df-convert {\n",
              "      background-color: #3B4455;\n",
              "      fill: #D2E3FC;\n",
              "    }\n",
              "\n",
              "    [theme=dark] .colab-df-convert:hover {\n",
              "      background-color: #434B5C;\n",
              "      box-shadow: 0px 1px 3px 1px rgba(0, 0, 0, 0.15);\n",
              "      filter: drop-shadow(0px 1px 2px rgba(0, 0, 0, 0.3));\n",
              "      fill: #FFFFFF;\n",
              "    }\n",
              "  </style>\n",
              "\n",
              "    <script>\n",
              "      const buttonEl =\n",
              "        document.querySelector('#df-60953e6b-a45b-4b43-94db-a7839b24bc75 button.colab-df-convert');\n",
              "      buttonEl.style.display =\n",
              "        google.colab.kernel.accessAllowed ? 'block' : 'none';\n",
              "\n",
              "      async function convertToInteractive(key) {\n",
              "        const element = document.querySelector('#df-60953e6b-a45b-4b43-94db-a7839b24bc75');\n",
              "        const dataTable =\n",
              "          await google.colab.kernel.invokeFunction('convertToInteractive',\n",
              "                                                    [key], {});\n",
              "        if (!dataTable) return;\n",
              "\n",
              "        const docLinkHtml = 'Like what you see? Visit the ' +\n",
              "          '<a target=\"_blank\" href=https://colab.research.google.com/notebooks/data_table.ipynb>data table notebook</a>'\n",
              "          + ' to learn more about interactive tables.';\n",
              "        element.innerHTML = '';\n",
              "        dataTable['output_type'] = 'display_data';\n",
              "        await google.colab.output.renderOutput(dataTable, element);\n",
              "        const docLink = document.createElement('div');\n",
              "        docLink.innerHTML = docLinkHtml;\n",
              "        element.appendChild(docLink);\n",
              "      }\n",
              "    </script>\n",
              "  </div>\n",
              "\n",
              "\n",
              "<div id=\"df-b8ec700d-efab-43bc-93e1-7b27acbe5684\">\n",
              "  <button class=\"colab-df-quickchart\" onclick=\"quickchart('df-b8ec700d-efab-43bc-93e1-7b27acbe5684')\"\n",
              "            title=\"Suggest charts\"\n",
              "            style=\"display:none;\">\n",
              "\n",
              "<svg xmlns=\"http://www.w3.org/2000/svg\" height=\"24px\"viewBox=\"0 0 24 24\"\n",
              "     width=\"24px\">\n",
              "    <g>\n",
              "        <path d=\"M19 3H5c-1.1 0-2 .9-2 2v14c0 1.1.9 2 2 2h14c1.1 0 2-.9 2-2V5c0-1.1-.9-2-2-2zM9 17H7v-7h2v7zm4 0h-2V7h2v10zm4 0h-2v-4h2v4z\"/>\n",
              "    </g>\n",
              "</svg>\n",
              "  </button>\n",
              "\n",
              "<style>\n",
              "  .colab-df-quickchart {\n",
              "      --bg-color: #E8F0FE;\n",
              "      --fill-color: #1967D2;\n",
              "      --hover-bg-color: #E2EBFA;\n",
              "      --hover-fill-color: #174EA6;\n",
              "      --disabled-fill-color: #AAA;\n",
              "      --disabled-bg-color: #DDD;\n",
              "  }\n",
              "\n",
              "  [theme=dark] .colab-df-quickchart {\n",
              "      --bg-color: #3B4455;\n",
              "      --fill-color: #D2E3FC;\n",
              "      --hover-bg-color: #434B5C;\n",
              "      --hover-fill-color: #FFFFFF;\n",
              "      --disabled-bg-color: #3B4455;\n",
              "      --disabled-fill-color: #666;\n",
              "  }\n",
              "\n",
              "  .colab-df-quickchart {\n",
              "    background-color: var(--bg-color);\n",
              "    border: none;\n",
              "    border-radius: 50%;\n",
              "    cursor: pointer;\n",
              "    display: none;\n",
              "    fill: var(--fill-color);\n",
              "    height: 32px;\n",
              "    padding: 0;\n",
              "    width: 32px;\n",
              "  }\n",
              "\n",
              "  .colab-df-quickchart:hover {\n",
              "    background-color: var(--hover-bg-color);\n",
              "    box-shadow: 0 1px 2px rgba(60, 64, 67, 0.3), 0 1px 3px 1px rgba(60, 64, 67, 0.15);\n",
              "    fill: var(--button-hover-fill-color);\n",
              "  }\n",
              "\n",
              "  .colab-df-quickchart-complete:disabled,\n",
              "  .colab-df-quickchart-complete:disabled:hover {\n",
              "    background-color: var(--disabled-bg-color);\n",
              "    fill: var(--disabled-fill-color);\n",
              "    box-shadow: none;\n",
              "  }\n",
              "\n",
              "  .colab-df-spinner {\n",
              "    border: 2px solid var(--fill-color);\n",
              "    border-color: transparent;\n",
              "    border-bottom-color: var(--fill-color);\n",
              "    animation:\n",
              "      spin 1s steps(1) infinite;\n",
              "  }\n",
              "\n",
              "  @keyframes spin {\n",
              "    0% {\n",
              "      border-color: transparent;\n",
              "      border-bottom-color: var(--fill-color);\n",
              "      border-left-color: var(--fill-color);\n",
              "    }\n",
              "    20% {\n",
              "      border-color: transparent;\n",
              "      border-left-color: var(--fill-color);\n",
              "      border-top-color: var(--fill-color);\n",
              "    }\n",
              "    30% {\n",
              "      border-color: transparent;\n",
              "      border-left-color: var(--fill-color);\n",
              "      border-top-color: var(--fill-color);\n",
              "      border-right-color: var(--fill-color);\n",
              "    }\n",
              "    40% {\n",
              "      border-color: transparent;\n",
              "      border-right-color: var(--fill-color);\n",
              "      border-top-color: var(--fill-color);\n",
              "    }\n",
              "    60% {\n",
              "      border-color: transparent;\n",
              "      border-right-color: var(--fill-color);\n",
              "    }\n",
              "    80% {\n",
              "      border-color: transparent;\n",
              "      border-right-color: var(--fill-color);\n",
              "      border-bottom-color: var(--fill-color);\n",
              "    }\n",
              "    90% {\n",
              "      border-color: transparent;\n",
              "      border-bottom-color: var(--fill-color);\n",
              "    }\n",
              "  }\n",
              "</style>\n",
              "\n",
              "  <script>\n",
              "    async function quickchart(key) {\n",
              "      const quickchartButtonEl =\n",
              "        document.querySelector('#' + key + ' button');\n",
              "      quickchartButtonEl.disabled = true;  // To prevent multiple clicks.\n",
              "      quickchartButtonEl.classList.add('colab-df-spinner');\n",
              "      try {\n",
              "        const charts = await google.colab.kernel.invokeFunction(\n",
              "            'suggestCharts', [key], {});\n",
              "      } catch (error) {\n",
              "        console.error('Error during call to suggestCharts:', error);\n",
              "      }\n",
              "      quickchartButtonEl.classList.remove('colab-df-spinner');\n",
              "      quickchartButtonEl.classList.add('colab-df-quickchart-complete');\n",
              "    }\n",
              "    (() => {\n",
              "      let quickchartButtonEl =\n",
              "        document.querySelector('#df-b8ec700d-efab-43bc-93e1-7b27acbe5684 button');\n",
              "      quickchartButtonEl.style.display =\n",
              "        google.colab.kernel.accessAllowed ? 'block' : 'none';\n",
              "    })();\n",
              "  </script>\n",
              "</div>\n",
              "\n",
              "    </div>\n",
              "  </div>\n"
            ],
            "application/vnd.google.colaboratory.intrinsic+json": {
              "type": "dataframe",
              "variable_name": "filtered_df",
              "summary": "{\n  \"name\": \"filtered_df\",\n  \"rows\": 36,\n  \"fields\": [\n    {\n      \"column\": \"artist\",\n      \"properties\": {\n        \"dtype\": \"string\",\n        \"num_unique_values\": 31,\n        \"samples\": [\n          \"Juice WRLD\",\n          \"Topic\",\n          \"Maluma\"\n        ],\n        \"semantic_type\": \"\",\n        \"description\": \"\"\n      }\n    },\n    {\n      \"column\": \"album\",\n      \"properties\": {\n        \"dtype\": \"string\",\n        \"num_unique_values\": 34,\n        \"samples\": [\n          \"Savage Love (Laxed - Siren Beat)\",\n          \"Music To Be Murdered By\",\n          \"Translation\"\n        ],\n        \"semantic_type\": \"\",\n        \"description\": \"\"\n      }\n    },\n    {\n      \"column\": \"track_name\",\n      \"properties\": {\n        \"dtype\": \"string\",\n        \"num_unique_values\": 36,\n        \"samples\": [\n          \"SICKO MODE\",\n          \"Memories\",\n          \"Haw\\u00e1i\"\n        ],\n        \"semantic_type\": \"\",\n        \"description\": \"\"\n      }\n    },\n    {\n      \"column\": \"track_id\",\n      \"properties\": {\n        \"dtype\": \"string\",\n        \"num_unique_values\": 36,\n        \"samples\": [\n          \"2xLMifQCjDGFmkHkpNLD9h\",\n          \"2b8fOow8UzyDFAE27YhOZM\",\n          \"1yoMvmasuxZfqHEipJhRbp\"\n        ],\n        \"semantic_type\": \"\",\n        \"description\": \"\"\n      }\n    },\n    {\n      \"column\": \"energy\",\n      \"properties\": {\n        \"dtype\": \"number\",\n        \"std\": 0.15010139430208025,\n        \"min\": 0.225,\n        \"max\": 0.855,\n        \"num_unique_values\": 36,\n        \"samples\": [\n          0.73,\n          0.32,\n          0.727\n        ],\n        \"semantic_type\": \"\",\n        \"description\": \"\"\n      }\n    },\n    {\n      \"column\": \"danceability\",\n      \"properties\": {\n        \"dtype\": \"number\",\n        \"std\": 0.11782602186516963,\n        \"min\": 0.459,\n        \"max\": 0.896,\n        \"num_unique_values\": 35,\n        \"samples\": [\n          0.88,\n          0.764,\n          0.598\n        ],\n        \"semantic_type\": \"\",\n        \"description\": \"\"\n      }\n    },\n    {\n      \"column\": \"key\",\n      \"properties\": {\n        \"dtype\": \"number\",\n        \"std\": 3,\n        \"min\": 0,\n        \"max\": 11,\n        \"num_unique_values\": 10,\n        \"samples\": [\n          3,\n          10,\n          1\n        ],\n        \"semantic_type\": \"\",\n        \"description\": \"\"\n      }\n    },\n    {\n      \"column\": \"loudness\",\n      \"properties\": {\n        \"dtype\": \"number\",\n        \"std\": 2.2962596645034288,\n        \"min\": -14.454,\n        \"max\": -3.28,\n        \"num_unique_values\": 36,\n        \"samples\": [\n          -3.714,\n          -7.209,\n          -3.454\n        ],\n        \"semantic_type\": \"\",\n        \"description\": \"\"\n      }\n    },\n    {\n      \"column\": \"acousticness\",\n      \"properties\": {\n        \"dtype\": \"number\",\n        \"std\": 0.27040365530587374,\n        \"min\": 0.00513,\n        \"max\": 0.902,\n        \"num_unique_values\": 35,\n        \"samples\": [\n          0.185,\n          0.837,\n          0.021\n        ],\n        \"semantic_type\": \"\",\n        \"description\": \"\"\n      }\n    },\n    {\n      \"column\": \"speechiness\",\n      \"properties\": {\n        \"dtype\": \"number\",\n        \"std\": 0.11072230769196838,\n        \"min\": 0.029,\n        \"max\": 0.487,\n        \"num_unique_values\": 36,\n        \"samples\": [\n          0.222,\n          0.0546,\n          0.389\n        ],\n        \"semantic_type\": \"\",\n        \"description\": \"\"\n      }\n    },\n    {\n      \"column\": \"instrumentalness\",\n      \"properties\": {\n        \"dtype\": \"number\",\n        \"std\": 0.10946210098305481,\n        \"min\": 0.0,\n        \"max\": 0.657,\n        \"num_unique_values\": 14,\n        \"samples\": [\n          5.83e-06,\n          6.43e-05,\n          0.000161\n        ],\n        \"semantic_type\": \"\",\n        \"description\": \"\"\n      }\n    },\n    {\n      \"column\": \"liveness\",\n      \"properties\": {\n        \"dtype\": \"number\",\n        \"std\": 0.19478583670929386,\n        \"min\": 0.0574,\n        \"max\": 0.792,\n        \"num_unique_values\": 33,\n        \"samples\": [\n          0.109,\n          0.269,\n          0.149\n        ],\n        \"semantic_type\": \"\",\n        \"description\": \"\"\n      }\n    },\n    {\n      \"column\": \"valence\",\n      \"properties\": {\n        \"dtype\": \"number\",\n        \"std\": 0.21326992872882947,\n        \"min\": 0.0605,\n        \"max\": 0.894,\n        \"num_unique_values\": 33,\n        \"samples\": [\n          0.604,\n          0.761,\n          0.884\n        ],\n        \"semantic_type\": \"\",\n        \"description\": \"\"\n      }\n    },\n    {\n      \"column\": \"tempo\",\n      \"properties\": {\n        \"dtype\": \"number\",\n        \"std\": 27.26577428252124,\n        \"min\": 75.801,\n        \"max\": 180.067,\n        \"num_unique_values\": 36,\n        \"samples\": [\n          155.008,\n          91.019,\n          180.067\n        ],\n        \"semantic_type\": \"\",\n        \"description\": \"\"\n      }\n    },\n    {\n      \"column\": \"duration_ms\",\n      \"properties\": {\n        \"dtype\": \"number\",\n        \"std\": 32155,\n        \"min\": 157606,\n        \"max\": 312820,\n        \"num_unique_values\": 36,\n        \"samples\": [\n          312820,\n          189486,\n          199112\n        ],\n        \"semantic_type\": \"\",\n        \"description\": \"\"\n      }\n    },\n    {\n      \"column\": \"genre\",\n      \"properties\": {\n        \"dtype\": \"category\",\n        \"num_unique_values\": 4,\n        \"samples\": [\n          \"Hip-Hop/Rap\",\n          \"Pop\",\n          \"Alternative/Indie\"\n        ],\n        \"semantic_type\": \"\",\n        \"description\": \"\"\n      }\n    }\n  ]\n}"
            }
          },
          "metadata": {},
          "execution_count": 19
        }
      ]
    },
    {
      "cell_type": "code",
      "source": [
        "danceability_by_genre = filtered_df.groupby('genre')['danceability'].mean().reset_index()\n",
        "print(danceability_by_genre)\n",
        "\n",
        "plt.figure(figsize=(10, 6))\n",
        "sns.barplot(x='genre', y='danceability', data=danceability_by_genre, palette='viridis', hue='genre', legend = False)\n",
        "plt.title('Average Danceability Score by Genre')\n",
        "plt.xlabel('Genre')\n",
        "plt.ylabel('Danceability Score')\n",
        "plt.show()"
      ],
      "metadata": {
        "colab": {
          "base_uri": "https://localhost:8080/",
          "height": 655
        },
        "id": "R1ynK8RnKuqf",
        "outputId": "876c91c3-a7d8-490f-ea16-ba6c44434383"
      },
      "execution_count": 28,
      "outputs": [
        {
          "output_type": "stream",
          "name": "stdout",
          "text": [
            "               genre  danceability\n",
            "0  Alternative/Indie      0.661750\n",
            "1   Dance/Electronic      0.755000\n",
            "2        Hip-Hop/Rap      0.765538\n",
            "3                Pop      0.677571\n"
          ]
        },
        {
          "output_type": "display_data",
          "data": {
            "text/plain": [
              "<Figure size 1000x600 with 1 Axes>"
            ],
            "image/png": "[encoded data removed]"
          },
          "metadata": {}
        }
      ]
    },
    {
      "cell_type": "markdown",
      "source": [
        "4. How does the loudness score compare between Pop, Hip-Hop/Rap, Dance/Electronic, and Alternative/Indie genres?\n",
        "\n"
      ],
      "metadata": {
        "id": "6gIawILJ7EGW"
      }
    },
    {
      "cell_type": "code",
      "source": [
        "loudness_by_genre = filtered_df.groupby('genre')['loudness'].mean().reset_index()\n",
        "print(loudness_by_genre)\n",
        "\n",
        "plt.figure(figsize=(10, 6))\n",
        "sns.barplot(x='genre', y='loudness', data=loudness_by_genre, palette='viridis', hue ='genre', legend=False)\n",
        "plt.title('Average Loudness Score by Genre')\n",
        "plt.xlabel('Genre')\n",
        "plt.ylabel('Loudness Score')\n",
        "plt.show()"
      ],
      "metadata": {
        "colab": {
          "base_uri": "https://localhost:8080/",
          "height": 655
        },
        "id": "H72A32ElMcVm",
        "outputId": "0dcdefb3-95de-4eaf-8777-a4521646c6a4"
      },
      "execution_count": 26,
      "outputs": [
        {
          "output_type": "stream",
          "name": "stdout",
          "text": [
            "               genre  loudness\n",
            "0  Alternative/Indie -5.421000\n",
            "1   Dance/Electronic -5.338000\n",
            "2        Hip-Hop/Rap -6.917846\n",
            "3                Pop -6.460357\n"
          ]
        },
        {
          "output_type": "display_data",
          "data": {
            "text/plain": [
              "<Figure size 1000x600 with 1 Axes>"
            ],
            "image/png": "[encoded data removed]"
          },
          "metadata": {}
        }
      ]
    },
    {
      "cell_type": "markdown",
      "source": [
        "5. How does the acousticness score compare between Pop, Hip-Hop/Rap, Dance/Electronic, and Alternative/Indie genres?"
      ],
      "metadata": {
        "id": "geQlnEJl7KoZ"
      }
    },
    {
      "cell_type": "code",
      "source": [
        "acousticness_by_genre = filtered_df.groupby('genre')['acousticness'].mean().reset_index()\n",
        "print(acousticness_by_genre)\n",
        "plt.figure(figsize=(10, 6))\n",
        "sns.barplot(x='genre', y='acousticness', data=acousticness_by_genre, palette='viridis',  hue ='genre', legend=False)\n",
        "plt.title('Average Acousticness Score by Genre')\n",
        "plt.xlabel('Genre')\n",
        "plt.ylabel('Acousticness Score')\n",
        "plt.show()"
      ],
      "metadata": {
        "colab": {
          "base_uri": "https://localhost:8080/",
          "height": 655
        },
        "id": "zLL8Utk6McY7",
        "outputId": "c334c730-a7b6-4ded-ed45-f2f7ccad1a36"
      },
      "execution_count": 30,
      "outputs": [
        {
          "output_type": "stream",
          "name": "stdout",
          "text": [
            "               genre  acousticness\n",
            "0  Alternative/Indie      0.583500\n",
            "1   Dance/Electronic      0.099440\n",
            "2        Hip-Hop/Rap      0.188741\n",
            "3                Pop      0.323843\n"
          ]
        },
        {
          "output_type": "display_data",
          "data": {
            "text/plain": [
              "<Figure size 1000x600 with 1 Axes>"
            ],
            "image/png": "[encoded data removed]"
          },
          "metadata": {}
        }
      ]
    },
    {
      "cell_type": "markdown",
      "source": [
        "## 6.Suggestions for Improvement\n",
        "**Larger Dataset:**\n",
        "\n",
        "The analysis is based on only 50 songs, which is a small sample size. A larger dataset would provide more reliable insights.\n",
        "\n",
        "**Additional Variables:**\n",
        "\n",
        "Including more variables like popularity, tempo, and valence could provide a more comprehensive understanding of what makes a hit song.\n",
        "\n",
        "**Statistical Testing:**\n",
        "\n",
        "Conducting statistical tests (e.g., t-test or Chi-Square) could help determine if the differences between genres are statistically significant.\n",
        "\n",
        "**Temporal Analysis:**\n",
        "\n",
        "Analyzing trends over time (e.g., comparing 2020 data with previous years) could reveal how musical preferences are evolving."
      ],
      "metadata": {
        "id": "SWqVNqa0OHEd"
      }
    }
  ]
}